{
  "cells": [
    {
      "cell_type": "markdown",
      "metadata": {
        "id": "view-in-github",
        "colab_type": "text"
      },
      "source": [
        "<a href=\"https://colab.research.google.com/github/Dongkyu1102/Data_final_project_Naver/blob/main/shopping_stores.ipynb\" target=\"_parent\"><img src=\"https://colab.research.google.com/assets/colab-badge.svg\" alt=\"Open In Colab\"/></a>"
      ]
    },
    {
      "cell_type": "code",
      "execution_count": null,
      "metadata": {
        "id": "3vwfav7WvLQP"
      },
      "outputs": [],
      "source": [
        "from bs4 import BeautifulSoup\n",
        "import time\n",
        "import re\n",
        "from selenium import webdriver # 브라우저를 조작하는 모듈\n",
        "from selenium.webdriver.chrome.service import Service # 크롬 드라이버의 시작과 중지를 담당하는 클래스\n",
        "from selenium.webdriver.common.by import By # 엘리먼트를 어떤 방식으로 선택할 지에 대한 상수\n",
        "from webdriver_manager.chrome import ChromeDriverManager # 크롬 드라이버를 관리\n",
        "import pandas as pd\n",
        "from tqdm.auto import tqdm\n",
        "from selenium.webdriver import ActionChains\n",
        "from selenium.webdriver.support import expected_conditions as EC\n",
        "from selenium.webdriver.support.ui import WebDriverWait"
      ]
    },
    {
      "cell_type": "code",
      "execution_count": null,
      "metadata": {
        "id": "6MerivBUvLQS"
      },
      "outputs": [],
      "source": [
        "DATA_PATH = \"C:/Users//\""
      ]
    },
    {
      "cell_type": "code",
      "execution_count": null,
      "metadata": {
        "id": "4bPAojuqvLQS"
      },
      "outputs": [],
      "source": [
        "def all_review(soup):\n",
        "    review = soup.find('a', attrs={'data-nclick':'N=a:tab*s.srev'}).text\n",
        "    review = int(review.split('쇼핑몰리뷰')[1].replace(',', ''))\n",
        "    return review"
      ]
    },
    {
      "cell_type": "code",
      "execution_count": null,
      "metadata": {
        "id": "FNfpCFshvLQT"
      },
      "outputs": [],
      "source": [
        "def review_per_page(soup):\n",
        "    _all = soup.find_all('span', attrs={'class':'reviewItems_average__0kLWX'})\n",
        "    return len(_all)"
      ]
    },
    {
      "cell_type": "code",
      "execution_count": null,
      "metadata": {
        "id": "Hl5qYkbYvLQT"
      },
      "outputs": [],
      "source": [
        "def next_click(driver, i):\n",
        "    selector = f\"a[href='#'][role='button'][data-nclick='N=a:rev.page,r:{i}']\"\n",
        "    button = WebDriverWait(driver, 10).until(EC.element_to_be_clickable((By.CSS_SELECTOR, selector)))\n",
        "    button.click()"
      ]
    },
    {
      "cell_type": "code",
      "execution_count": null,
      "metadata": {
        "id": "80pb24WAvLQT"
      },
      "outputs": [],
      "source": [
        "def data_collect(soup, i):\n",
        "    # 댓글 본문 수집\n",
        "    content = soup.find_all('p', attrs = {'class' : 'reviewItems_text__XrSSf'})[i].text\n",
        "\n",
        "    # 전체 수집\n",
        "    text = soup.find_all('div', attrs={'class':'reviewItems_etc_area__3VUjt'})[i].text\n",
        "\n",
        "    # 평점 수집\n",
        "    score = int(text[2])\n",
        "\n",
        "    # 날짜 수집\n",
        "    p = re.compile('[0-9]+.[0-9]+.[0-9]+.')\n",
        "    date = p.findall(text)[0]\n",
        "\n",
        "    # 옵션 수집\n",
        "    option = text.split(date)[1]\n",
        "\n",
        "    data = [content, score, date, option]\n",
        "    return data\n"
      ]
    },
    {
      "cell_type": "code",
      "execution_count": null,
      "metadata": {
        "id": "Jf5gg5flvLQU"
      },
      "outputs": [],
      "source": [
        "def rating_click(driver, i):\n",
        "    driver.find_element(By.CSS_SELECTOR, f'a[href=\"#\"][data-nclick=\"N=a:rev.grd{i}\"]').click()"
      ]
    },
    {
      "cell_type": "code",
      "execution_count": null,
      "metadata": {
        "id": "02tZSaTqvLQU"
      },
      "outputs": [],
      "source": [
        "def photo_click(driver):\n",
        "    driver.find_element(By.CSS_SELECTOR, 'a[href=\"#\"][data-nclick=\"N=a:rev.photoon\"]').click()"
      ]
    },
    {
      "cell_type": "code",
      "execution_count": null,
      "metadata": {
        "id": "K5JjNt-3vLQV"
      },
      "outputs": [],
      "source": [
        "def recent_click(driver):\n",
        "    driver.find_element(By.CSS_SELECTOR, 'a[href=\"#\"][data-nclick=\"N=a:rev.rec\"]').click()"
      ]
    },
    {
      "cell_type": "code",
      "execution_count": null,
      "metadata": {
        "id": "plvPqDZyvLQW"
      },
      "outputs": [],
      "source": [
        "url_lst = ['https://search.shopping.naver.com/catalog/17448001091?query=%EB%8B%A5%ED%84%B0%EA%B7%B8%EB%A3%A8%ED%8A%B8&NaPm=ct%3Dlma7w5t4%7Cci%3D58b8717ff1fc41c5b92b16823e1d90bf64fe5c73%7Ctr%3Dslsl%7Csn%3D95694%7Chk%3Dbd90b8aa2dba51a272492531b9ca15cfc8ac003f']"
      ]
    },
    {
      "cell_type": "code",
      "execution_count": null,
      "metadata": {
        "id": "vq86UhCHvLQX",
        "outputId": "0d7af527-f996-41d7-e034-3e6213f9f2ef",
        "colab": {
          "referenced_widgets": [
            "3a3e78e97b7b4eacb49974391b9496ec"
          ]
        }
      },
      "outputs": [
        {
          "data": {
            "application/vnd.jupyter.widget-view+json": {
              "model_id": "3a3e78e97b7b4eacb49974391b9496ec",
              "version_major": 2,
              "version_minor": 0
            },
            "text/plain": [
              "outer:   0%|          | 0/1 [00:00<?, ?it/s]"
            ]
          },
          "metadata": {},
          "output_type": "display_data"
        }
      ],
      "source": [
        "# 최신순으로 5점만\n",
        "options = webdriver.ChromeOptions()\n",
        "options.add_argument('--start-maximized') # 전체 화면\n",
        "options.add_argument(\"--incognito\") # 시크릿 모드\n",
        "driver = webdriver.Chrome(\n",
        "    service=Service(ChromeDriverManager().install()),\n",
        "    options=options\n",
        ")\n",
        "\n",
        "for url in tqdm(url_lst, desc=\"outer\", position=0):\n",
        "    driver.get(url)\n",
        "    WebDriverWait(driver, 10).until(EC.presence_of_element_located((By.CSS_SELECTOR, \"p.reviewItems_text__XrSSf\")))\n",
        "\n",
        "    html = driver.page_source\n",
        "    soup = BeautifulSoup(html, 'lxml')\n",
        "    review = all_review(soup)\n",
        "\n",
        "    page_num = (review // 20) + 1\n",
        "    result = []\n",
        "\n",
        "    recent_click(driver)\n",
        "\n",
        "    time.sleep(0.2)\n",
        "\n",
        "    rating_click(driver, 5)\n",
        "\n",
        "    time.sleep(0.2)\n",
        "\n",
        "    html = driver.page_source\n",
        "    soup = BeautifulSoup(html, 'lxml')\n",
        "    # 1페이지 수집\n",
        "    for i in range(review_per_page(soup)):\n",
        "        data = data_collect(soup, i)\n",
        "        result.append(data)\n",
        "\n",
        "    # 2페이지 부터 수집\n",
        "    for i in range(2, 101):\n",
        "        try:\n",
        "            next_click(driver, i)\n",
        "        except:\n",
        "            break\n",
        "        time.sleep(0.2)\n",
        "        html = driver.page_source\n",
        "        soup = BeautifulSoup(html, 'lxml')\n",
        "        for j in range(review_per_page(soup)):\n",
        "            data = data_collect(soup, j)\n",
        "            result.append(data)\n",
        "\n",
        "        time.sleep(0.5)\n",
        "\n",
        "    results_df = pd.DataFrame(result)\n",
        "    results_df.columns = ['content', 'score', 'date', 'option']"
      ]
    },
    {
      "cell_type": "code",
      "execution_count": null,
      "metadata": {
        "id": "3-8zlrDLvLQX",
        "outputId": "3832d200-24d0-4b08-88cc-090d3b48a46d",
        "colab": {
          "referenced_widgets": [
            "64446c50d98c4d5ea91b9766fffab85a"
          ]
        }
      },
      "outputs": [
        {
          "data": {
            "application/vnd.jupyter.widget-view+json": {
              "model_id": "64446c50d98c4d5ea91b9766fffab85a",
              "version_major": 2,
              "version_minor": 0
            },
            "text/plain": [
              "outer:   0%|          | 0/1 [00:00<?, ?it/s]"
            ]
          },
          "metadata": {},
          "output_type": "display_data"
        }
      ],
      "source": [
        "# 포토&동영상 리뷰로 5점만\n",
        "options = webdriver.ChromeOptions()\n",
        "options.add_argument('--start-maximized') # 전체 화면\n",
        "options.add_argument(\"--incognito\") # 시크릿 모드\n",
        "driver = webdriver.Chrome(\n",
        "    service=Service(ChromeDriverManager().install()),\n",
        "    options=options\n",
        ")\n",
        "\n",
        "for url in tqdm(url_lst, desc=\"outer\", position=0):\n",
        "    driver.get(url)\n",
        "    WebDriverWait(driver, 10).until(EC.presence_of_element_located((By.CSS_SELECTOR, \"p.reviewItems_text__XrSSf\")))\n",
        "\n",
        "    html = driver.page_source\n",
        "    soup = BeautifulSoup(html, 'lxml')\n",
        "    review = all_review(soup)\n",
        "\n",
        "    page_num = (review // 20) + 1\n",
        "    result = []\n",
        "\n",
        "    photo_click(driver)\n",
        "\n",
        "    time.sleep(0.2)\n",
        "\n",
        "    rating_click(driver, 5)\n",
        "\n",
        "    time.sleep(0.2)\n",
        "\n",
        "    html = driver.page_source\n",
        "    soup = BeautifulSoup(html, 'lxml')\n",
        "    # 1페이지 수집\n",
        "    for i in range(review_per_page(soup)):\n",
        "        data = data_collect(soup, i)\n",
        "        result.append(data)\n",
        "\n",
        "    # 2페이지 부터 수집\n",
        "    for i in range(2, 101):\n",
        "        try:\n",
        "            next_click(driver, i)\n",
        "        except:\n",
        "            break\n",
        "        time.sleep(0.2)\n",
        "        html = driver.page_source\n",
        "        soup = BeautifulSoup(html, 'lxml')\n",
        "        for j in range(review_per_page(soup)):\n",
        "            data = data_collect(soup, j)\n",
        "            result.append(data)\n",
        "\n",
        "        time.sleep(0.5)\n",
        "\n",
        "    results_df = pd.DataFrame(result)\n",
        "    results_df.columns = ['content', 'score', 'date', 'option']\n"
      ]
    },
    {
      "cell_type": "code",
      "execution_count": null,
      "metadata": {
        "id": "y6fpPIr9vLQY",
        "outputId": "c09ac529-a823-441e-a77b-81294a5411b4",
        "colab": {
          "referenced_widgets": [
            "3594c8d264284262bebbb5fc67d45b6e"
          ]
        }
      },
      "outputs": [
        {
          "data": {
            "application/vnd.jupyter.widget-view+json": {
              "model_id": "3594c8d264284262bebbb5fc67d45b6e",
              "version_major": 2,
              "version_minor": 0
            },
            "text/plain": [
              "outer:   0%|          | 0/1 [00:00<?, ?it/s]"
            ]
          },
          "metadata": {},
          "output_type": "display_data"
        }
      ],
      "source": [
        "options = webdriver.ChromeOptions()\n",
        "options.add_argument('--start-maximized') # 전체 화면\n",
        "options.add_argument(\"--incognito\") # 시크릿 모드\n",
        "driver = webdriver.Chrome(\n",
        "    service=Service(ChromeDriverManager().install()),\n",
        "    options=options\n",
        ")\n",
        "\n",
        "for url in tqdm(url_lst, desc=\"outer\", position=0):\n",
        "    driver.get(url)\n",
        "    WebDriverWait(driver, 10).until(EC.presence_of_element_located((By.CSS_SELECTOR, \"p.reviewItems_text__XrSSf\")))\n",
        "\n",
        "    html = driver.page_source\n",
        "    soup = BeautifulSoup(html, 'lxml')\n",
        "    review = all_review(soup)\n",
        "\n",
        "    page_num = (review // 20) + 1\n",
        "    result = []\n",
        "    for i in range(1,6):\n",
        "        rating_click(driver, i)\n",
        "\n",
        "        time.sleep(0.2)\n",
        "\n",
        "        html = driver.page_source\n",
        "        soup = BeautifulSoup(html, 'lxml')\n",
        "        # 1페이지 수집\n",
        "        for i in range(review_per_page(soup)):\n",
        "            data = data_collect(soup, i)\n",
        "            result.append(data)\n",
        "\n",
        "        # 2페이지 부터 수집\n",
        "        for i in range(2, 101):\n",
        "            try:\n",
        "                next_click(driver, i)\n",
        "            except:\n",
        "                break\n",
        "            time.sleep(0.2)\n",
        "            html = driver.page_source\n",
        "            soup = BeautifulSoup(html, 'lxml')\n",
        "            for j in range(review_per_page(soup)):\n",
        "                data = data_collect(soup, j)\n",
        "                result.append(data)\n",
        "\n",
        "            time.sleep(0.5)\n",
        "\n",
        "    results_df = pd.DataFrame(result)\n",
        "    results_df.columns = ['content', 'score', 'date', 'option']\n",
        "\n"
      ]
    },
    {
      "cell_type": "code",
      "execution_count": null,
      "metadata": {
        "id": "z7Ono1-gvLQZ"
      },
      "outputs": [],
      "source": [
        "results_df"
      ]
    },
    {
      "cell_type": "code",
      "execution_count": null,
      "metadata": {
        "id": "evr4rkLVvLQZ"
      },
      "outputs": [],
      "source": [
        "results_df.to_csv('C:/Users/abc.csv', index=False, encoding='utf-8-sig')"
      ]
    }
  ],
  "metadata": {
    "kernelspec": {
      "display_name": "Python 3",
      "language": "python",
      "name": "python3"
    },
    "language_info": {
      "codemirror_mode": {
        "name": "ipython",
        "version": 3
      },
      "file_extension": ".py",
      "mimetype": "text/x-python",
      "name": "python",
      "nbconvert_exporter": "python",
      "pygments_lexer": "ipython3",
      "version": "3.8.5"
    },
    "orig_nbformat": 4,
    "colab": {
      "provenance": [],
      "include_colab_link": true
    }
  },
  "nbformat": 4,
  "nbformat_minor": 0
}