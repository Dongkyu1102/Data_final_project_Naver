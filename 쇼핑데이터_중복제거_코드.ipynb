{
  "nbformat": 4,
  "nbformat_minor": 0,
  "metadata": {
    "colab": {
      "provenance": [],
      "include_colab_link": true
    },
    "kernelspec": {
      "name": "python3",
      "display_name": "Python 3"
    },
    "language_info": {
      "name": "python"
    }
  },
  "cells": [
    {
      "cell_type": "markdown",
      "metadata": {
        "id": "view-in-github",
        "colab_type": "text"
      },
      "source": [
        "<a href=\"https://colab.research.google.com/github/Dongkyu1102/Data_final_project_Naver/blob/main/%EC%87%BC%ED%95%91%EB%8D%B0%EC%9D%B4%ED%84%B0_%EC%A4%91%EB%B3%B5%EC%A0%9C%EA%B1%B0_%EC%BD%94%EB%93%9C.ipynb\" target=\"_parent\"><img src=\"https://colab.research.google.com/assets/colab-badge.svg\" alt=\"Open In Colab\"/></a>"
      ]
    },
    {
      "cell_type": "code",
      "source": [
        "from google.colab import drive\n",
        "drive.mount('/content/drive')"
      ],
      "metadata": {
        "colab": {
          "base_uri": "https://localhost:8080/"
        },
        "id": "HzF7PNhgjE0H",
        "outputId": "4ab075a4-08a3-4cd5-ce93-f3caac57ac7a"
      },
      "execution_count": null,
      "outputs": [
        {
          "output_type": "stream",
          "name": "stdout",
          "text": [
            "Mounted at /content/drive\n"
          ]
        }
      ]
    },
    {
      "cell_type": "code",
      "execution_count": null,
      "metadata": {
        "id": "NsNTZESiit6-"
      },
      "outputs": [],
      "source": [
        "import pandas as pd\n",
        "import numpy as np\n",
        "import re\n",
        "from tqdm.auto import tqdm\n",
        "\n",
        "DATA_PATH = \"/content/drive/MyDrive/2조_누구냐, 넌!/04. 기타자료/Naver_shopping_크롤링/수집자료_raw_데이터/\""
      ]
    },
    {
      "cell_type": "code",
      "source": [
        "brand = '살림백서'\n",
        "df = pd.read_csv(f\"{DATA_PATH}{brand}.csv\")\n",
        "df['brand']=f'{brand}'\n",
        "df"
      ],
      "metadata": {
        "id": "1wJhqVjfi982"
      },
      "execution_count": null,
      "outputs": []
    },
    {
      "cell_type": "code",
      "source": [
        "df[df[\"score\"] == 5]"
      ],
      "metadata": {
        "id": "mSj6IccR5AqS"
      },
      "execution_count": null,
      "outputs": []
    },
    {
      "cell_type": "code",
      "source": [
        "df[df[\"score\"] == 5].shape[0], df[df[\"score\"] == 4].shape[0], df[df[\"score\"] == 3].shape[0], df[df[\"score\"] == 2].shape[0], df[df[\"score\"] == 1].shape[0]"
      ],
      "metadata": {
        "colab": {
          "base_uri": "https://localhost:8080/"
        },
        "id": "2q0lt637joqZ",
        "outputId": "ac8690d1-5cb7-4be3-e6f8-43798c00679a"
      },
      "execution_count": null,
      "outputs": [
        {
          "output_type": "execute_result",
          "data": {
            "text/plain": [
              "(8311, 2053, 521, 47, 44)"
            ]
          },
          "metadata": {},
          "execution_count": 9
        }
      ]
    },
    {
      "cell_type": "code",
      "source": [
        "df[\"한달사용기\"] = 0\n",
        "df[\"재구매\"] = 0\n",
        "df"
      ],
      "metadata": {
        "id": "sLY9i70_3vJ9"
      },
      "execution_count": null,
      "outputs": []
    },
    {
      "cell_type": "code",
      "source": [
        "df.loc[df[\"content\"].str.startswith(\"한달사용기\"), \"한달사용기\"] =1"
      ],
      "metadata": {
        "id": "mo0xmTwU5LqJ"
      },
      "execution_count": null,
      "outputs": []
    },
    {
      "cell_type": "code",
      "source": [
        "df.loc[df[\"content\"].str.startswith(\"한달사용기\")]"
      ],
      "metadata": {
        "id": "-5aPTQG67FRI"
      },
      "execution_count": null,
      "outputs": []
    },
    {
      "cell_type": "code",
      "source": [
        "df.loc[df[\"content\"].str.startswith(\"한달사용기\"), \"한달사용기\"] = 1\n",
        "df.loc[df[\"content\"].str.startswith(\"재구매\"), \"재구매\"] = 1\n",
        "df.loc[df[\"content\"].str.startswith('한달사용기재구매'),'재구매'] = 1\n",
        "df"
      ],
      "metadata": {
        "id": "sB8nJMKt39LI"
      },
      "execution_count": null,
      "outputs": []
    },
    {
      "cell_type": "code",
      "source": [
        "df.loc[df[\"content\"].str.startswith(\"BEST\")]"
      ],
      "metadata": {
        "id": "pUWgjzGa9tVj"
      },
      "execution_count": null,
      "outputs": []
    },
    {
      "cell_type": "code",
      "source": [
        "df.loc[df[\"content\"].str.startswith(\"BEST\")].shape"
      ],
      "metadata": {
        "colab": {
          "base_uri": "https://localhost:8080/"
        },
        "id": "Pr3G26ff4KdB",
        "outputId": "7a82e64a-50af-4848-8c40-4121d4f8224f"
      },
      "execution_count": null,
      "outputs": [
        {
          "output_type": "execute_result",
          "data": {
            "text/plain": [
              "(50, 8)"
            ]
          },
          "metadata": {},
          "execution_count": 54
        }
      ]
    },
    {
      "cell_type": "code",
      "source": [
        "df.loc[df[\"content\"].str.startswith(\"한달사용기\"), \"한달사용기\"] = 1\n",
        "df.loc[df[\"content\"].str.startswith(\"재구매\"), \"재구매\"] = 1\n",
        "df.loc[df[\"content\"].str.startswith('한달사용기재구매'),'재구매'] = 1\n",
        "df"
      ],
      "metadata": {
        "id": "Ydmn_ngpOdyl"
      },
      "execution_count": null,
      "outputs": []
    },
    {
      "cell_type": "code",
      "source": [
        "df.loc[df[\"content\"].str.startswith(\"BEST\")]"
      ],
      "metadata": {
        "id": "Fwv3E9MLOuXV"
      },
      "execution_count": null,
      "outputs": []
    },
    {
      "cell_type": "markdown",
      "source": [
        "# 파일저장"
      ],
      "metadata": {
        "id": "TxiPLGZQuCeK"
      }
    },
    {
      "cell_type": "code",
      "source": [
        "# DATA_PATH_2 = \"/content/drive/MyDrive/2조_누구냐, 넌!/04. 기타자료/Naver_shopping_크롤링/수집자료_컬럼추가/\"\n",
        "# df.to_csv(f'{DATA_PATH_2}{brand}_컬럼추가.csv', encoding='utf-8-sig')"
      ],
      "metadata": {
        "id": "2WrZ7KOnAdwY"
      },
      "execution_count": null,
      "outputs": []
    },
    {
      "cell_type": "markdown",
      "source": [
        "# '탈모샴푸 대표제품 1개' or '옵션선택 없는 = NaN'만 추출하기"
      ],
      "metadata": {
        "id": "eoSzwhsJudXp"
      }
    },
    {
      "cell_type": "code",
      "source": [
        "df"
      ],
      "metadata": {
        "id": "_0l_A6XkuctE"
      },
      "execution_count": null,
      "outputs": []
    },
    {
      "cell_type": "code",
      "source": [
        "df['option'].unique()"
      ],
      "metadata": {
        "id": "J-6FIKqPuknM"
      },
      "execution_count": null,
      "outputs": []
    },
    {
      "cell_type": "code",
      "source": [
        "df['option']"
      ],
      "metadata": {
        "id": "IXs2MFBf4C4A"
      },
      "execution_count": null,
      "outputs": []
    },
    {
      "cell_type": "markdown",
      "source": [
        "# df_1 = 대표상품 + 옵션지정안됨(NaN)"
      ],
      "metadata": {
        "id": "yInoz5eiOzcn"
      }
    },
    {
      "cell_type": "code",
      "source": [
        "df_1 = df[df['option'].str.contains('탈모', na=True)]#.reset_index(drop=True)\n",
        "df_1\n",
        "# 혹시 na값도 포함하고 싶으시면 na=True로 바꾸니까 na값도 포함시켜서 나옵니다!"
      ],
      "metadata": {
        "id": "qs6K8Xdc22Hq"
      },
      "execution_count": null,
      "outputs": []
    },
    {
      "cell_type": "code",
      "source": [
        "df_1['option'].unique()"
      ],
      "metadata": {
        "colab": {
          "base_uri": "https://localhost:8080/"
        },
        "id": "6nlEswMDOq4O",
        "outputId": "318c9716-352b-463c-a4a5-6dcbc9708337"
      },
      "execution_count": null,
      "outputs": [
        {
          "output_type": "execute_result",
          "data": {
            "text/plain": [
              "array(['옵션선택): 1)1+1 살림백서 액티브B7 탈모샴푸 1L', nan], dtype=object)"
            ]
          },
          "metadata": {},
          "execution_count": 19
        }
      ]
    },
    {
      "cell_type": "markdown",
      "source": [
        "# df_2 = 대표상품 옵션 외 나머지 옵션들"
      ],
      "metadata": {
        "id": "3ZH2TjK2O72l"
      }
    },
    {
      "cell_type": "code",
      "source": [
        "df_2 = df.drop(df_1.index)#.reset_index(drop=True)\n",
        "df_2"
      ],
      "metadata": {
        "id": "1YodrNNmNCKz"
      },
      "execution_count": null,
      "outputs": []
    },
    {
      "cell_type": "code",
      "source": [
        "df.shape[0]"
      ],
      "metadata": {
        "colab": {
          "base_uri": "https://localhost:8080/"
        },
        "id": "kTurzBl8OZPm",
        "outputId": "4bf40718-c0d3-4c87-d098-3f744442d4f0"
      },
      "execution_count": null,
      "outputs": [
        {
          "output_type": "execute_result",
          "data": {
            "text/plain": [
              "10976"
            ]
          },
          "metadata": {},
          "execution_count": 21
        }
      ]
    },
    {
      "cell_type": "code",
      "source": [
        "df_1.shape[0]"
      ],
      "metadata": {
        "colab": {
          "base_uri": "https://localhost:8080/"
        },
        "id": "FGeEPmaJOi7g",
        "outputId": "196de996-2314-4c75-91e2-3a08e6a4f473"
      },
      "execution_count": null,
      "outputs": [
        {
          "output_type": "execute_result",
          "data": {
            "text/plain": [
              "10829"
            ]
          },
          "metadata": {},
          "execution_count": 22
        }
      ]
    },
    {
      "cell_type": "code",
      "source": [
        "df_2.shape[0]"
      ],
      "metadata": {
        "colab": {
          "base_uri": "https://localhost:8080/"
        },
        "id": "YpEWqieIOi1W",
        "outputId": "2ef3c8c2-4969-4c70-9d4a-fd0546297320"
      },
      "execution_count": null,
      "outputs": [
        {
          "output_type": "execute_result",
          "data": {
            "text/plain": [
              "147"
            ]
          },
          "metadata": {},
          "execution_count": 23
        }
      ]
    },
    {
      "cell_type": "code",
      "source": [
        "df.shape[0] == df_1.shape[0] + df_2.shape[0]"
      ],
      "metadata": {
        "colab": {
          "base_uri": "https://localhost:8080/"
        },
        "id": "6tco8hw3Ntws",
        "outputId": "226293ad-df50-4b5d-be01-b3ab2a137e8d"
      },
      "execution_count": null,
      "outputs": [
        {
          "output_type": "execute_result",
          "data": {
            "text/plain": [
              "True"
            ]
          },
          "metadata": {},
          "execution_count": 24
        }
      ]
    },
    {
      "cell_type": "markdown",
      "source": [
        "# df_3 = df_1 중에서 옵션선택안됨(NaN)만 추출"
      ],
      "metadata": {
        "id": "pLWb_UEcPAyR"
      }
    },
    {
      "cell_type": "code",
      "source": [
        "df_3 = df[df['option'].isnull()]#.reset_index(drop=True)\n",
        "df_3"
      ],
      "metadata": {
        "id": "B_TQOX6mOpDA"
      },
      "execution_count": null,
      "outputs": []
    },
    {
      "cell_type": "code",
      "source": [
        "len(df_3['satis_list'].str.contains('탈모케어'))\n",
        "\n",
        "# 확인결과 df에서 옵션선택없음(NaN)에 해당되는 제품이 모두 satis_list 항목에서 '탈모케어'라는 문구가 모두 포함되었고,\n",
        "# 단일상품(대표제품) URL로 접속했기 때문에 옵션없음(NaN)은 대표제품 단 1개로 이루어졌을거라 옵션없음(NaN)도 df_1에 모두 포함시켰음."
      ],
      "metadata": {
        "id": "mBXD3mFcOpBT"
      },
      "execution_count": null,
      "outputs": []
    },
    {
      "cell_type": "code",
      "source": [
        "df_1 = df_1.reset_index(drop=True)\n",
        "df_2 = df_2.reset_index(drop=True)\n",
        "df_3 = df_3.reset_index(drop=True)"
      ],
      "metadata": {
        "id": "KTKjD7BVwFkB"
      },
      "execution_count": null,
      "outputs": []
    },
    {
      "cell_type": "code",
      "source": [
        "df.shape[0] == df_1.shape[0] + df_2.shape[0]"
      ],
      "metadata": {
        "id": "88z3aCpRTSep"
      },
      "execution_count": null,
      "outputs": []
    },
    {
      "cell_type": "markdown",
      "source": [
        "# 데이터프레임 내 문장에서 특정 단어는 제거하고 반환"
      ],
      "metadata": {
        "id": "eCkvZOi7atTH"
      }
    },
    {
      "cell_type": "code",
      "source": [
        "df_4 = pd.DataFrame({'content': ['abc는 abc이고 abcdef는 아니다. abc는 그러므로 abc 이다.', 'abc는 abc가 정말 맞음.', 'abcabc_abc_abc 짱']})\n",
        "df_4\n",
        "\n",
        "df_4['content'] = df_4['content'].str.replace('^abc', '')\n",
        "df_4\n",
        "\n",
        "# str.replace('^abc', '') 여기서 '^abc'는 ^라는 것이 붙어서 abc가 문장에서 처음에 나온 abc만 지우는 것"
      ],
      "metadata": {
        "colab": {
          "base_uri": "https://localhost:8080/",
          "height": 180
        },
        "id": "Quh7jJVoYlQb",
        "outputId": "9ee0c26e-c2af-41ac-af58-f6c0d47f9095"
      },
      "execution_count": null,
      "outputs": [
        {
          "output_type": "stream",
          "name": "stderr",
          "text": [
            "<ipython-input-29-504219a6c6a7>:4: FutureWarning: The default value of regex will change from True to False in a future version.\n",
            "  df_4['content'] = df_4['content'].str.replace('^abc', '')\n"
          ]
        },
        {
          "output_type": "execute_result",
          "data": {
            "text/plain": [
              "                                  content\n",
              "0  는 abc이고 abcdef는 아니다. abc는 그러므로 abc 이다.\n",
              "1                           는 abc가 정말 맞음.\n",
              "2                           abc_abc_abc 짱"
            ],
            "text/html": [
              "\n",
              "  <div id=\"df-29cbb4f4-4f5f-4fc8-915d-7e2843aeec77\" class=\"colab-df-container\">\n",
              "    <div>\n",
              "<style scoped>\n",
              "    .dataframe tbody tr th:only-of-type {\n",
              "        vertical-align: middle;\n",
              "    }\n",
              "\n",
              "    .dataframe tbody tr th {\n",
              "        vertical-align: top;\n",
              "    }\n",
              "\n",
              "    .dataframe thead th {\n",
              "        text-align: right;\n",
              "    }\n",
              "</style>\n",
              "<table border=\"1\" class=\"dataframe\">\n",
              "  <thead>\n",
              "    <tr style=\"text-align: right;\">\n",
              "      <th></th>\n",
              "      <th>content</th>\n",
              "    </tr>\n",
              "  </thead>\n",
              "  <tbody>\n",
              "    <tr>\n",
              "      <th>0</th>\n",
              "      <td>는 abc이고 abcdef는 아니다. abc는 그러므로 abc 이다.</td>\n",
              "    </tr>\n",
              "    <tr>\n",
              "      <th>1</th>\n",
              "      <td>는 abc가 정말 맞음.</td>\n",
              "    </tr>\n",
              "    <tr>\n",
              "      <th>2</th>\n",
              "      <td>abc_abc_abc 짱</td>\n",
              "    </tr>\n",
              "  </tbody>\n",
              "</table>\n",
              "</div>\n",
              "    <div class=\"colab-df-buttons\">\n",
              "\n",
              "  <div class=\"colab-df-container\">\n",
              "    <button class=\"colab-df-convert\" onclick=\"convertToInteractive('df-29cbb4f4-4f5f-4fc8-915d-7e2843aeec77')\"\n",
              "            title=\"Convert this dataframe to an interactive table.\"\n",
              "            style=\"display:none;\">\n",
              "\n",
              "  <svg xmlns=\"http://www.w3.org/2000/svg\" height=\"24px\" viewBox=\"0 -960 960 960\">\n",
              "    <path d=\"M120-120v-720h720v720H120Zm60-500h600v-160H180v160Zm220 220h160v-160H400v160Zm0 220h160v-160H400v160ZM180-400h160v-160H180v160Zm440 0h160v-160H620v160ZM180-180h160v-160H180v160Zm440 0h160v-160H620v160Z\"/>\n",
              "  </svg>\n",
              "    </button>\n",
              "\n",
              "  <style>\n",
              "    .colab-df-container {\n",
              "      display:flex;\n",
              "      gap: 12px;\n",
              "    }\n",
              "\n",
              "    .colab-df-convert {\n",
              "      background-color: #E8F0FE;\n",
              "      border: none;\n",
              "      border-radius: 50%;\n",
              "      cursor: pointer;\n",
              "      display: none;\n",
              "      fill: #1967D2;\n",
              "      height: 32px;\n",
              "      padding: 0 0 0 0;\n",
              "      width: 32px;\n",
              "    }\n",
              "\n",
              "    .colab-df-convert:hover {\n",
              "      background-color: #E2EBFA;\n",
              "      box-shadow: 0px 1px 2px rgba(60, 64, 67, 0.3), 0px 1px 3px 1px rgba(60, 64, 67, 0.15);\n",
              "      fill: #174EA6;\n",
              "    }\n",
              "\n",
              "    .colab-df-buttons div {\n",
              "      margin-bottom: 4px;\n",
              "    }\n",
              "\n",
              "    [theme=dark] .colab-df-convert {\n",
              "      background-color: #3B4455;\n",
              "      fill: #D2E3FC;\n",
              "    }\n",
              "\n",
              "    [theme=dark] .colab-df-convert:hover {\n",
              "      background-color: #434B5C;\n",
              "      box-shadow: 0px 1px 3px 1px rgba(0, 0, 0, 0.15);\n",
              "      filter: drop-shadow(0px 1px 2px rgba(0, 0, 0, 0.3));\n",
              "      fill: #FFFFFF;\n",
              "    }\n",
              "  </style>\n",
              "\n",
              "    <script>\n",
              "      const buttonEl =\n",
              "        document.querySelector('#df-29cbb4f4-4f5f-4fc8-915d-7e2843aeec77 button.colab-df-convert');\n",
              "      buttonEl.style.display =\n",
              "        google.colab.kernel.accessAllowed ? 'block' : 'none';\n",
              "\n",
              "      async function convertToInteractive(key) {\n",
              "        const element = document.querySelector('#df-29cbb4f4-4f5f-4fc8-915d-7e2843aeec77');\n",
              "        const dataTable =\n",
              "          await google.colab.kernel.invokeFunction('convertToInteractive',\n",
              "                                                    [key], {});\n",
              "        if (!dataTable) return;\n",
              "\n",
              "        const docLinkHtml = 'Like what you see? Visit the ' +\n",
              "          '<a target=\"_blank\" href=https://colab.research.google.com/notebooks/data_table.ipynb>data table notebook</a>'\n",
              "          + ' to learn more about interactive tables.';\n",
              "        element.innerHTML = '';\n",
              "        dataTable['output_type'] = 'display_data';\n",
              "        await google.colab.output.renderOutput(dataTable, element);\n",
              "        const docLink = document.createElement('div');\n",
              "        docLink.innerHTML = docLinkHtml;\n",
              "        element.appendChild(docLink);\n",
              "      }\n",
              "    </script>\n",
              "  </div>\n",
              "\n",
              "\n",
              "<div id=\"df-843413af-a4b3-4c09-99a5-afccce547c9a\">\n",
              "  <button class=\"colab-df-quickchart\" onclick=\"quickchart('df-843413af-a4b3-4c09-99a5-afccce547c9a')\"\n",
              "            title=\"Suggest charts.\"\n",
              "            style=\"display:none;\">\n",
              "\n",
              "<svg xmlns=\"http://www.w3.org/2000/svg\" height=\"24px\"viewBox=\"0 0 24 24\"\n",
              "     width=\"24px\">\n",
              "    <g>\n",
              "        <path d=\"M19 3H5c-1.1 0-2 .9-2 2v14c0 1.1.9 2 2 2h14c1.1 0 2-.9 2-2V5c0-1.1-.9-2-2-2zM9 17H7v-7h2v7zm4 0h-2V7h2v10zm4 0h-2v-4h2v4z\"/>\n",
              "    </g>\n",
              "</svg>\n",
              "  </button>\n",
              "\n",
              "<style>\n",
              "  .colab-df-quickchart {\n",
              "      --bg-color: #E8F0FE;\n",
              "      --fill-color: #1967D2;\n",
              "      --hover-bg-color: #E2EBFA;\n",
              "      --hover-fill-color: #174EA6;\n",
              "      --disabled-fill-color: #AAA;\n",
              "      --disabled-bg-color: #DDD;\n",
              "  }\n",
              "\n",
              "  [theme=dark] .colab-df-quickchart {\n",
              "      --bg-color: #3B4455;\n",
              "      --fill-color: #D2E3FC;\n",
              "      --hover-bg-color: #434B5C;\n",
              "      --hover-fill-color: #FFFFFF;\n",
              "      --disabled-bg-color: #3B4455;\n",
              "      --disabled-fill-color: #666;\n",
              "  }\n",
              "\n",
              "  .colab-df-quickchart {\n",
              "    background-color: var(--bg-color);\n",
              "    border: none;\n",
              "    border-radius: 50%;\n",
              "    cursor: pointer;\n",
              "    display: none;\n",
              "    fill: var(--fill-color);\n",
              "    height: 32px;\n",
              "    padding: 0;\n",
              "    width: 32px;\n",
              "  }\n",
              "\n",
              "  .colab-df-quickchart:hover {\n",
              "    background-color: var(--hover-bg-color);\n",
              "    box-shadow: 0 1px 2px rgba(60, 64, 67, 0.3), 0 1px 3px 1px rgba(60, 64, 67, 0.15);\n",
              "    fill: var(--button-hover-fill-color);\n",
              "  }\n",
              "\n",
              "  .colab-df-quickchart-complete:disabled,\n",
              "  .colab-df-quickchart-complete:disabled:hover {\n",
              "    background-color: var(--disabled-bg-color);\n",
              "    fill: var(--disabled-fill-color);\n",
              "    box-shadow: none;\n",
              "  }\n",
              "\n",
              "  .colab-df-spinner {\n",
              "    border: 2px solid var(--fill-color);\n",
              "    border-color: transparent;\n",
              "    border-bottom-color: var(--fill-color);\n",
              "    animation:\n",
              "      spin 1s steps(1) infinite;\n",
              "  }\n",
              "\n",
              "  @keyframes spin {\n",
              "    0% {\n",
              "      border-color: transparent;\n",
              "      border-bottom-color: var(--fill-color);\n",
              "      border-left-color: var(--fill-color);\n",
              "    }\n",
              "    20% {\n",
              "      border-color: transparent;\n",
              "      border-left-color: var(--fill-color);\n",
              "      border-top-color: var(--fill-color);\n",
              "    }\n",
              "    30% {\n",
              "      border-color: transparent;\n",
              "      border-left-color: var(--fill-color);\n",
              "      border-top-color: var(--fill-color);\n",
              "      border-right-color: var(--fill-color);\n",
              "    }\n",
              "    40% {\n",
              "      border-color: transparent;\n",
              "      border-right-color: var(--fill-color);\n",
              "      border-top-color: var(--fill-color);\n",
              "    }\n",
              "    60% {\n",
              "      border-color: transparent;\n",
              "      border-right-color: var(--fill-color);\n",
              "    }\n",
              "    80% {\n",
              "      border-color: transparent;\n",
              "      border-right-color: var(--fill-color);\n",
              "      border-bottom-color: var(--fill-color);\n",
              "    }\n",
              "    90% {\n",
              "      border-color: transparent;\n",
              "      border-bottom-color: var(--fill-color);\n",
              "    }\n",
              "  }\n",
              "</style>\n",
              "\n",
              "  <script>\n",
              "    async function quickchart(key) {\n",
              "      const quickchartButtonEl =\n",
              "        document.querySelector('#' + key + ' button');\n",
              "      quickchartButtonEl.disabled = true;  // To prevent multiple clicks.\n",
              "      quickchartButtonEl.classList.add('colab-df-spinner');\n",
              "      try {\n",
              "        const charts = await google.colab.kernel.invokeFunction(\n",
              "            'suggestCharts', [key], {});\n",
              "      } catch (error) {\n",
              "        console.error('Error during call to suggestCharts:', error);\n",
              "      }\n",
              "      quickchartButtonEl.classList.remove('colab-df-spinner');\n",
              "      quickchartButtonEl.classList.add('colab-df-quickchart-complete');\n",
              "    }\n",
              "    (() => {\n",
              "      let quickchartButtonEl =\n",
              "        document.querySelector('#df-843413af-a4b3-4c09-99a5-afccce547c9a button');\n",
              "      quickchartButtonEl.style.display =\n",
              "        google.colab.kernel.accessAllowed ? 'block' : 'none';\n",
              "    })();\n",
              "  </script>\n",
              "</div>\n",
              "    </div>\n",
              "  </div>\n"
            ]
          },
          "metadata": {},
          "execution_count": 29
        }
      ]
    },
    {
      "cell_type": "code",
      "source": [
        "# 한번만 실행해야함. 문자열 처음에 단어 두번 연속으로 나올때 두번 다 지워져버림.\n",
        "\n",
        "df_1['content'] = df_1['content'].str.replace('^한달사용기', '')\n",
        "df_1['content'] = df_1['content'].str.replace('^재구매', '')\n",
        "df_1['content'] = df_1['content'].str.replace('^BEST', '')"
      ],
      "metadata": {
        "id": "lsDsS2o5a_XA"
      },
      "execution_count": null,
      "outputs": []
    },
    {
      "cell_type": "code",
      "source": [
        "df[df['content'].str.startswith('재구매재구매')].head()"
      ],
      "metadata": {
        "id": "IUCPleoPe3tm"
      },
      "execution_count": null,
      "outputs": []
    },
    {
      "cell_type": "code",
      "source": [
        "df_1[df_1['content'].str.startswith('한달사용기')]\n",
        "df_1[df_1['content'].str.startswith('한달사용기재구매')]\n",
        "df_1[df_1['content'].str.startswith('재구매')].head() # 여기서 재구매는 카테고리 재구매여서 데이터로 딸려온 것이 아니라, 사용자가 리뷰 첫 문자열로 재구매라는 단어를 쓴 것임."
      ],
      "metadata": {
        "id": "EQUm8aXcdwmS"
      },
      "execution_count": null,
      "outputs": []
    },
    {
      "cell_type": "code",
      "source": [
        "df_1.shape[0]"
      ],
      "metadata": {
        "id": "YiubvHY_g4tL"
      },
      "execution_count": null,
      "outputs": []
    },
    {
      "cell_type": "code",
      "source": [
        "df_1"
      ],
      "metadata": {
        "id": "h4Qf2AnqiQV8"
      },
      "execution_count": null,
      "outputs": []
    },
    {
      "cell_type": "markdown",
      "source": [
        "# 중복제거"
      ],
      "metadata": {
        "id": "dqEVyM-G0URj"
      }
    },
    {
      "cell_type": "code",
      "source": [
        "df_1 = df_1.drop_duplicates(subset=['content', 'date'], ignore_index=True)"
      ],
      "metadata": {
        "id": "lnidbQF6gzJ1"
      },
      "execution_count": null,
      "outputs": []
    },
    {
      "cell_type": "code",
      "source": [
        "df_1.shape[0]"
      ],
      "metadata": {
        "id": "6-2iMBpQimGW"
      },
      "execution_count": null,
      "outputs": []
    },
    {
      "cell_type": "markdown",
      "source": [
        "# 옵션정리+중복저장 파일저장"
      ],
      "metadata": {
        "id": "Dn_MT7V9keme"
      }
    },
    {
      "cell_type": "code",
      "source": [
        "# DATA_PATH_3 = \"/content/drive/MyDrive/2조_누구냐, 넌!/04. 기타자료/Naver_shopping_크롤링/중복제거/\"\n",
        "# df_1.to_csv(f'{DATA_PATH_3}{brand}_중복제거.csv', index=False, encoding='utf-8-sig')"
      ],
      "metadata": {
        "id": "illrB8xFjY12"
      },
      "execution_count": null,
      "outputs": []
    },
    {
      "cell_type": "code",
      "source": [
        "df_1"
      ],
      "metadata": {
        "id": "PmkDAC2KkosL"
      },
      "execution_count": null,
      "outputs": []
    }
  ]
}