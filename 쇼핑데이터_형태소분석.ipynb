{
  "nbformat": 4,
  "nbformat_minor": 0,
  "metadata": {
    "colab": {
      "provenance": [],
      "machine_shape": "hm",
      "include_colab_link": true
    },
    "kernelspec": {
      "name": "python3",
      "display_name": "Python 3"
    },
    "language_info": {
      "name": "python"
    },
    "widgets": {
      "application/vnd.jupyter.widget-state+json": {
        "1b7c505590e24a2ba37aab2e964a1dd5": {
          "model_module": "@jupyter-widgets/controls",
          "model_name": "HBoxModel",
          "model_module_version": "1.5.0",
          "state": {
            "_dom_classes": [],
            "_model_module": "@jupyter-widgets/controls",
            "_model_module_version": "1.5.0",
            "_model_name": "HBoxModel",
            "_view_count": null,
            "_view_module": "@jupyter-widgets/controls",
            "_view_module_version": "1.5.0",
            "_view_name": "HBoxView",
            "box_style": "",
            "children": [
              "IPY_MODEL_76cfbc54a73a4b78bf65aaa250eaed63",
              "IPY_MODEL_7d4f1a8029d542af8d5b5a9cca6bb6a9",
              "IPY_MODEL_b771256bdefe41a191dde499de7005ed"
            ],
            "layout": "IPY_MODEL_b7825bbf95f8476eb01199bfc3e9e5e7"
          }
        },
        "76cfbc54a73a4b78bf65aaa250eaed63": {
          "model_module": "@jupyter-widgets/controls",
          "model_name": "HTMLModel",
          "model_module_version": "1.5.0",
          "state": {
            "_dom_classes": [],
            "_model_module": "@jupyter-widgets/controls",
            "_model_module_version": "1.5.0",
            "_model_name": "HTMLModel",
            "_view_count": null,
            "_view_module": "@jupyter-widgets/controls",
            "_view_module_version": "1.5.0",
            "_view_name": "HTMLView",
            "description": "",
            "description_tooltip": null,
            "layout": "IPY_MODEL_98f094cc23dc4b4aa82c73d90aa5c429",
            "placeholder": "​",
            "style": "IPY_MODEL_485f983315ae45bd966d9c1b3daf60e3",
            "value": "100%"
          }
        },
        "7d4f1a8029d542af8d5b5a9cca6bb6a9": {
          "model_module": "@jupyter-widgets/controls",
          "model_name": "FloatProgressModel",
          "model_module_version": "1.5.0",
          "state": {
            "_dom_classes": [],
            "_model_module": "@jupyter-widgets/controls",
            "_model_module_version": "1.5.0",
            "_model_name": "FloatProgressModel",
            "_view_count": null,
            "_view_module": "@jupyter-widgets/controls",
            "_view_module_version": "1.5.0",
            "_view_name": "ProgressView",
            "bar_style": "success",
            "description": "",
            "description_tooltip": null,
            "layout": "IPY_MODEL_cbc99a9f3a684be9959ff279c62cb80d",
            "max": 8,
            "min": 0,
            "orientation": "horizontal",
            "style": "IPY_MODEL_31f06fff512c49f9a23ffbc7c38525fe",
            "value": 8
          }
        },
        "b771256bdefe41a191dde499de7005ed": {
          "model_module": "@jupyter-widgets/controls",
          "model_name": "HTMLModel",
          "model_module_version": "1.5.0",
          "state": {
            "_dom_classes": [],
            "_model_module": "@jupyter-widgets/controls",
            "_model_module_version": "1.5.0",
            "_model_name": "HTMLModel",
            "_view_count": null,
            "_view_module": "@jupyter-widgets/controls",
            "_view_module_version": "1.5.0",
            "_view_name": "HTMLView",
            "description": "",
            "description_tooltip": null,
            "layout": "IPY_MODEL_9727305f566d46df97c5190c4743b789",
            "placeholder": "​",
            "style": "IPY_MODEL_ec313e51cfac4522a8fa8366d34e2971",
            "value": " 8/8 [04:29&lt;00:00, 33.34s/it]"
          }
        },
        "b7825bbf95f8476eb01199bfc3e9e5e7": {
          "model_module": "@jupyter-widgets/base",
          "model_name": "LayoutModel",
          "model_module_version": "1.2.0",
          "state": {
            "_model_module": "@jupyter-widgets/base",
            "_model_module_version": "1.2.0",
            "_model_name": "LayoutModel",
            "_view_count": null,
            "_view_module": "@jupyter-widgets/base",
            "_view_module_version": "1.2.0",
            "_view_name": "LayoutView",
            "align_content": null,
            "align_items": null,
            "align_self": null,
            "border": null,
            "bottom": null,
            "display": null,
            "flex": null,
            "flex_flow": null,
            "grid_area": null,
            "grid_auto_columns": null,
            "grid_auto_flow": null,
            "grid_auto_rows": null,
            "grid_column": null,
            "grid_gap": null,
            "grid_row": null,
            "grid_template_areas": null,
            "grid_template_columns": null,
            "grid_template_rows": null,
            "height": null,
            "justify_content": null,
            "justify_items": null,
            "left": null,
            "margin": null,
            "max_height": null,
            "max_width": null,
            "min_height": null,
            "min_width": null,
            "object_fit": null,
            "object_position": null,
            "order": null,
            "overflow": null,
            "overflow_x": null,
            "overflow_y": null,
            "padding": null,
            "right": null,
            "top": null,
            "visibility": null,
            "width": null
          }
        },
        "98f094cc23dc4b4aa82c73d90aa5c429": {
          "model_module": "@jupyter-widgets/base",
          "model_name": "LayoutModel",
          "model_module_version": "1.2.0",
          "state": {
            "_model_module": "@jupyter-widgets/base",
            "_model_module_version": "1.2.0",
            "_model_name": "LayoutModel",
            "_view_count": null,
            "_view_module": "@jupyter-widgets/base",
            "_view_module_version": "1.2.0",
            "_view_name": "LayoutView",
            "align_content": null,
            "align_items": null,
            "align_self": null,
            "border": null,
            "bottom": null,
            "display": null,
            "flex": null,
            "flex_flow": null,
            "grid_area": null,
            "grid_auto_columns": null,
            "grid_auto_flow": null,
            "grid_auto_rows": null,
            "grid_column": null,
            "grid_gap": null,
            "grid_row": null,
            "grid_template_areas": null,
            "grid_template_columns": null,
            "grid_template_rows": null,
            "height": null,
            "justify_content": null,
            "justify_items": null,
            "left": null,
            "margin": null,
            "max_height": null,
            "max_width": null,
            "min_height": null,
            "min_width": null,
            "object_fit": null,
            "object_position": null,
            "order": null,
            "overflow": null,
            "overflow_x": null,
            "overflow_y": null,
            "padding": null,
            "right": null,
            "top": null,
            "visibility": null,
            "width": null
          }
        },
        "485f983315ae45bd966d9c1b3daf60e3": {
          "model_module": "@jupyter-widgets/controls",
          "model_name": "DescriptionStyleModel",
          "model_module_version": "1.5.0",
          "state": {
            "_model_module": "@jupyter-widgets/controls",
            "_model_module_version": "1.5.0",
            "_model_name": "DescriptionStyleModel",
            "_view_count": null,
            "_view_module": "@jupyter-widgets/base",
            "_view_module_version": "1.2.0",
            "_view_name": "StyleView",
            "description_width": ""
          }
        },
        "cbc99a9f3a684be9959ff279c62cb80d": {
          "model_module": "@jupyter-widgets/base",
          "model_name": "LayoutModel",
          "model_module_version": "1.2.0",
          "state": {
            "_model_module": "@jupyter-widgets/base",
            "_model_module_version": "1.2.0",
            "_model_name": "LayoutModel",
            "_view_count": null,
            "_view_module": "@jupyter-widgets/base",
            "_view_module_version": "1.2.0",
            "_view_name": "LayoutView",
            "align_content": null,
            "align_items": null,
            "align_self": null,
            "border": null,
            "bottom": null,
            "display": null,
            "flex": null,
            "flex_flow": null,
            "grid_area": null,
            "grid_auto_columns": null,
            "grid_auto_flow": null,
            "grid_auto_rows": null,
            "grid_column": null,
            "grid_gap": null,
            "grid_row": null,
            "grid_template_areas": null,
            "grid_template_columns": null,
            "grid_template_rows": null,
            "height": null,
            "justify_content": null,
            "justify_items": null,
            "left": null,
            "margin": null,
            "max_height": null,
            "max_width": null,
            "min_height": null,
            "min_width": null,
            "object_fit": null,
            "object_position": null,
            "order": null,
            "overflow": null,
            "overflow_x": null,
            "overflow_y": null,
            "padding": null,
            "right": null,
            "top": null,
            "visibility": null,
            "width": null
          }
        },
        "31f06fff512c49f9a23ffbc7c38525fe": {
          "model_module": "@jupyter-widgets/controls",
          "model_name": "ProgressStyleModel",
          "model_module_version": "1.5.0",
          "state": {
            "_model_module": "@jupyter-widgets/controls",
            "_model_module_version": "1.5.0",
            "_model_name": "ProgressStyleModel",
            "_view_count": null,
            "_view_module": "@jupyter-widgets/base",
            "_view_module_version": "1.2.0",
            "_view_name": "StyleView",
            "bar_color": null,
            "description_width": ""
          }
        },
        "9727305f566d46df97c5190c4743b789": {
          "model_module": "@jupyter-widgets/base",
          "model_name": "LayoutModel",
          "model_module_version": "1.2.0",
          "state": {
            "_model_module": "@jupyter-widgets/base",
            "_model_module_version": "1.2.0",
            "_model_name": "LayoutModel",
            "_view_count": null,
            "_view_module": "@jupyter-widgets/base",
            "_view_module_version": "1.2.0",
            "_view_name": "LayoutView",
            "align_content": null,
            "align_items": null,
            "align_self": null,
            "border": null,
            "bottom": null,
            "display": null,
            "flex": null,
            "flex_flow": null,
            "grid_area": null,
            "grid_auto_columns": null,
            "grid_auto_flow": null,
            "grid_auto_rows": null,
            "grid_column": null,
            "grid_gap": null,
            "grid_row": null,
            "grid_template_areas": null,
            "grid_template_columns": null,
            "grid_template_rows": null,
            "height": null,
            "justify_content": null,
            "justify_items": null,
            "left": null,
            "margin": null,
            "max_height": null,
            "max_width": null,
            "min_height": null,
            "min_width": null,
            "object_fit": null,
            "object_position": null,
            "order": null,
            "overflow": null,
            "overflow_x": null,
            "overflow_y": null,
            "padding": null,
            "right": null,
            "top": null,
            "visibility": null,
            "width": null
          }
        },
        "ec313e51cfac4522a8fa8366d34e2971": {
          "model_module": "@jupyter-widgets/controls",
          "model_name": "DescriptionStyleModel",
          "model_module_version": "1.5.0",
          "state": {
            "_model_module": "@jupyter-widgets/controls",
            "_model_module_version": "1.5.0",
            "_model_name": "DescriptionStyleModel",
            "_view_count": null,
            "_view_module": "@jupyter-widgets/base",
            "_view_module_version": "1.2.0",
            "_view_name": "StyleView",
            "description_width": ""
          }
        }
      }
    }
  },
  "cells": [
    {
      "cell_type": "markdown",
      "metadata": {
        "id": "view-in-github",
        "colab_type": "text"
      },
      "source": [
        "<a href=\"https://colab.research.google.com/github/Dongkyu1102/Data_final_project_Naver/blob/main/%EC%87%BC%ED%95%91%EB%8D%B0%EC%9D%B4%ED%84%B0_%ED%98%95%ED%83%9C%EC%86%8C%EB%B6%84%EC%84%9D.ipynb\" target=\"_parent\"><img src=\"https://colab.research.google.com/assets/colab-badge.svg\" alt=\"Open In Colab\"/></a>"
      ]
    },
    {
      "cell_type": "markdown",
      "source": [
        "# 파일 불러오기 및 모듈 세팅"
      ],
      "metadata": {
        "id": "RN3IDLnR7Mc4"
      }
    },
    {
      "cell_type": "code",
      "source": [
        "from google.colab import drive\n",
        "drive.mount('/content/drive')"
      ],
      "metadata": {
        "id": "J9w488o_3MvN"
      },
      "execution_count": null,
      "outputs": []
    },
    {
      "cell_type": "code",
      "source": [
        "import pandas as pd\n",
        "import numpy as np\n",
        "import os\n",
        "import re\n",
        "from tqdm.auto import tqdm"
      ],
      "metadata": {
        "id": "B5DDLhC53fEk"
      },
      "execution_count": null,
      "outputs": []
    },
    {
      "cell_type": "code",
      "source": [
        "DATA_PATH = \"/content/drive/MyDrive/2조_누구냐, 넌!/04. 기타자료/Naver_shopping_크롤링/중복제거/\""
      ],
      "metadata": {
        "id": "5NWmrKlQ3h3B"
      },
      "execution_count": null,
      "outputs": []
    },
    {
      "cell_type": "code",
      "source": [
        "brand = '살림백서'\n",
        "df = pd.read_csv(f\"{DATA_PATH}{brand}_중복제거.csv\")\n",
        "df # 전처리(대표제품+NaN 선택 후 리뷰 중복제거)"
      ],
      "metadata": {
        "id": "lVe3FiMl3hya"
      },
      "execution_count": null,
      "outputs": []
    },
    {
      "cell_type": "code",
      "source": [
        "df.shape[0]"
      ],
      "metadata": {
        "id": "B1tFFoCI5bsE"
      },
      "execution_count": null,
      "outputs": []
    },
    {
      "cell_type": "code",
      "source": [
        "df['brand']=f'{brand}'\n",
        "df"
      ],
      "metadata": {
        "id": "zB4pPdeS48dF"
      },
      "execution_count": null,
      "outputs": []
    },
    {
      "cell_type": "markdown",
      "source": [
        "# mecab 형태소 분석 설치 및 테스트"
      ],
      "metadata": {
        "id": "JZaNOZYV7Q_5"
      }
    },
    {
      "cell_type": "code",
      "source": [
        "pip install pyLDAvis # 최신버전으로 런타임 재실행 필수 !!!!!!!!!!!"
      ],
      "metadata": {
        "id": "8pnH6oZWOx37"
      },
      "execution_count": null,
      "outputs": []
    },
    {
      "cell_type": "code",
      "source": [
        "# pip install pyLDAvis --upgrade # 최신버전으로 업그레이드"
      ],
      "metadata": {
        "id": "WdTjeWMBh1NA"
      },
      "execution_count": null,
      "outputs": []
    },
    {
      "cell_type": "code",
      "execution_count": null,
      "metadata": {
        "id": "km2CNlFs2tQt"
      },
      "outputs": [],
      "source": [
        "# !pip install pyLDAvis==2.1.2  # 구버전으로 런타임 재실행 안해도 됨."
      ]
    },
    {
      "cell_type": "code",
      "source": [
        "# https://github.com/SOMJANG/Mecab-ko-for-Google-Colab"
      ],
      "metadata": {
        "id": "sdhX9x7s22Uk"
      },
      "execution_count": null,
      "outputs": []
    },
    {
      "cell_type": "code",
      "source": [
        "!git clone https://github.com/SOMJANG/Mecab-ko-for-Google-Colab.git"
      ],
      "metadata": {
        "id": "9wSuo3wK270i"
      },
      "execution_count": null,
      "outputs": []
    },
    {
      "cell_type": "code",
      "source": [
        "cd Mecab-ko-for-Google-Colab"
      ],
      "metadata": {
        "id": "Js83sg3s29sN"
      },
      "execution_count": null,
      "outputs": []
    },
    {
      "cell_type": "code",
      "source": [
        "!bash install_mecab-ko_on_colab_light_220429.sh"
      ],
      "metadata": {
        "id": "p4iOO6lf2_N_"
      },
      "execution_count": null,
      "outputs": []
    },
    {
      "cell_type": "code",
      "source": [
        "from konlpy.tag import Mecab\n",
        "mecab = Mecab()"
      ],
      "metadata": {
        "id": "dh9ZREUH3AOd"
      },
      "execution_count": null,
      "outputs": []
    },
    {
      "cell_type": "code",
      "source": [
        "mecab.morphs(\"영등포구청역에 있는 맛집 좀 알려주세요.\")"
      ],
      "metadata": {
        "colab": {
          "base_uri": "https://localhost:8080/"
        },
        "id": "KYHjoxo83B_W",
        "outputId": "58f97d47-d8c4-461b-d50d-1388a636b271"
      },
      "execution_count": null,
      "outputs": [
        {
          "output_type": "stream",
          "name": "stderr",
          "text": [
            "/usr/local/lib/python3.10/dist-packages/ipykernel/ipkernel.py:283: DeprecationWarning: `should_run_async` will not call `transform_cell` automatically in the future. Please pass the result to `transformed_cell` argument and any exception that happen during thetransform in `preprocessing_exc_tuple` in IPython 7.17 and above.\n",
            "  and should_run_async(code)\n"
          ]
        },
        {
          "output_type": "execute_result",
          "data": {
            "text/plain": [
              "['영등포구청역', '에', '있', '는', '맛집', '좀', '알려', '주', '세요', '.']"
            ]
          },
          "metadata": {},
          "execution_count": 43
        }
      ]
    },
    {
      "cell_type": "code",
      "source": [
        "mecab.nouns(\"우리나라에는 무릎 치료를 잘하는 정형외과가 없는가!\")"
      ],
      "metadata": {
        "colab": {
          "base_uri": "https://localhost:8080/"
        },
        "id": "jahF_92r3DDV",
        "outputId": "96bcaa0e-0ffb-472a-dda5-a39007099bef"
      },
      "execution_count": null,
      "outputs": [
        {
          "output_type": "stream",
          "name": "stderr",
          "text": [
            "/usr/local/lib/python3.10/dist-packages/ipykernel/ipkernel.py:283: DeprecationWarning: `should_run_async` will not call `transform_cell` automatically in the future. Please pass the result to `transformed_cell` argument and any exception that happen during thetransform in `preprocessing_exc_tuple` in IPython 7.17 and above.\n",
            "  and should_run_async(code)\n"
          ]
        },
        {
          "output_type": "execute_result",
          "data": {
            "text/plain": [
              "['우리', '나라', '무릎', '치료', '정형', '외과']"
            ]
          },
          "metadata": {},
          "execution_count": 44
        }
      ]
    },
    {
      "cell_type": "code",
      "source": [
        "mecab.pos(\"자연주의 쇼핑몰은 어떤 곳인가?\")"
      ],
      "metadata": {
        "colab": {
          "base_uri": "https://localhost:8080/"
        },
        "id": "w-zYruAM3ETG",
        "outputId": "17136054-d08c-4820-9edb-63ed29f0747c"
      },
      "execution_count": null,
      "outputs": [
        {
          "output_type": "stream",
          "name": "stderr",
          "text": [
            "/usr/local/lib/python3.10/dist-packages/ipykernel/ipkernel.py:283: DeprecationWarning: `should_run_async` will not call `transform_cell` automatically in the future. Please pass the result to `transformed_cell` argument and any exception that happen during thetransform in `preprocessing_exc_tuple` in IPython 7.17 and above.\n",
            "  and should_run_async(code)\n"
          ]
        },
        {
          "output_type": "execute_result",
          "data": {
            "text/plain": [
              "[('자연주의', 'NNG'),\n",
              " ('쇼핑몰', 'NNG'),\n",
              " ('은', 'JX'),\n",
              " ('어떤', 'MM'),\n",
              " ('곳', 'NNG'),\n",
              " ('인가', 'VCP+EF'),\n",
              " ('?', 'SF')]"
            ]
          },
          "metadata": {},
          "execution_count": 45
        }
      ]
    },
    {
      "cell_type": "markdown",
      "source": [
        "# mecab 형태소 분석 + LDA"
      ],
      "metadata": {
        "id": "2s9MzbhEAXzG"
      }
    },
    {
      "cell_type": "code",
      "source": [
        "df['content']"
      ],
      "metadata": {
        "colab": {
          "base_uri": "https://localhost:8080/"
        },
        "id": "Mg2Q0i6g_2EZ",
        "outputId": "84a31e19-2557-4ec0-8a13-8098ebb5337c"
      },
      "execution_count": null,
      "outputs": [
        {
          "output_type": "stream",
          "name": "stderr",
          "text": [
            "/usr/local/lib/python3.10/dist-packages/ipykernel/ipkernel.py:283: DeprecationWarning: `should_run_async` will not call `transform_cell` automatically in the future. Please pass the result to `transformed_cell` argument and any exception that happen during thetransform in `preprocessing_exc_tuple` in IPython 7.17 and above.\n",
            "  and should_run_async(code)\n"
          ]
        },
        {
          "output_type": "execute_result",
          "data": {
            "text/plain": [
              "0       요즘들어 부쩍 더 시도때도 없이 이곳저곳 할것없이 암만치우고 치워도 계속계속 빠져나...\n",
              "1       솔직히 사고 몇번 안써봤지만 구매할때 엄청고민하고 많이 알아보고 구매해서  고민하시...\n",
              "2       악지성이에요..아침에 머리감아도 오후되면 앞머리가 뭉쳐요 ㅡㅡ; 애들도 저닮아서 하...\n",
              "3       와... 배송에 놀랬습니다.  목요일 저녁 퇴근 후 주문했는데 .. 다음날 아침에 ...\n",
              "4       택배도 포장 꼼꼼하고 무엇보다 향도 괜찮고  거품도 많이 나오더라고요. 리뷰보고 처...\n",
              "                              ...                        \n",
              "9962                              용량,가격,향기,부드러움,순함👍🏻😵‍💫👍🏻\n",
              "9963                                        아직미사용중입니다 ㅎㅎㅎ\n",
              "9964                                   탈모가 일상이라 한 번 써보려궁ㅛ\n",
              "9965                                       좋아요  좋아요 .....\n",
              "9966                                           개좋음~~~~~~~\n",
              "Name: content, Length: 9967, dtype: object"
            ]
          },
          "metadata": {},
          "execution_count": 46
        }
      ]
    },
    {
      "cell_type": "code",
      "source": [
        "content = []\n",
        "for i in range(df.shape[0]):\n",
        "    content.append(df['content'][i])"
      ],
      "metadata": {
        "colab": {
          "base_uri": "https://localhost:8080/"
        },
        "id": "50jsFpEqAiBE",
        "outputId": "d94056a7-8b13-4e5a-d13d-3d0028ebc34b"
      },
      "execution_count": null,
      "outputs": [
        {
          "output_type": "stream",
          "name": "stderr",
          "text": [
            "/usr/local/lib/python3.10/dist-packages/ipykernel/ipkernel.py:283: DeprecationWarning: `should_run_async` will not call `transform_cell` automatically in the future. Please pass the result to `transformed_cell` argument and any exception that happen during thetransform in `preprocessing_exc_tuple` in IPython 7.17 and above.\n",
            "  and should_run_async(code)\n"
          ]
        }
      ]
    },
    {
      "cell_type": "code",
      "source": [
        "content"
      ],
      "metadata": {
        "id": "LOSSESO0AjcL"
      },
      "execution_count": null,
      "outputs": []
    },
    {
      "cell_type": "code",
      "source": [
        "mecab_lst = []\n",
        "for text in content:\n",
        "    mecab_lst.append(mecab.nouns(text))"
      ],
      "metadata": {
        "colab": {
          "base_uri": "https://localhost:8080/"
        },
        "id": "lBEj48L8Apoj",
        "outputId": "52193b73-390f-4842-bf94-024bc299682e"
      },
      "execution_count": null,
      "outputs": [
        {
          "output_type": "stream",
          "name": "stderr",
          "text": [
            "/usr/local/lib/python3.10/dist-packages/ipykernel/ipkernel.py:283: DeprecationWarning: `should_run_async` will not call `transform_cell` automatically in the future. Please pass the result to `transformed_cell` argument and any exception that happen during thetransform in `preprocessing_exc_tuple` in IPython 7.17 and above.\n",
            "  and should_run_async(code)\n"
          ]
        }
      ]
    },
    {
      "cell_type": "code",
      "source": [
        "len(mecab_lst)"
      ],
      "metadata": {
        "colab": {
          "base_uri": "https://localhost:8080/"
        },
        "id": "WNhvFsfgAuQy",
        "outputId": "2e8ebd7e-7868-4e48-cb99-148edecf4ecd"
      },
      "execution_count": null,
      "outputs": [
        {
          "output_type": "stream",
          "name": "stderr",
          "text": [
            "/usr/local/lib/python3.10/dist-packages/ipykernel/ipkernel.py:283: DeprecationWarning: `should_run_async` will not call `transform_cell` automatically in the future. Please pass the result to `transformed_cell` argument and any exception that happen during thetransform in `preprocessing_exc_tuple` in IPython 7.17 and above.\n",
            "  and should_run_async(code)\n"
          ]
        },
        {
          "output_type": "execute_result",
          "data": {
            "text/plain": [
              "9967"
            ]
          },
          "metadata": {},
          "execution_count": 50
        }
      ]
    },
    {
      "cell_type": "code",
      "source": [
        "cnt_mecab = []\n",
        "for i in mecab_lst:\n",
        "    cnt_mecab += i"
      ],
      "metadata": {
        "colab": {
          "base_uri": "https://localhost:8080/"
        },
        "id": "fXqIQVTTAwcr",
        "outputId": "5fc67fe9-25d8-4bf2-ced4-b9d873ca7e38"
      },
      "execution_count": null,
      "outputs": [
        {
          "output_type": "stream",
          "name": "stderr",
          "text": [
            "/usr/local/lib/python3.10/dist-packages/ipykernel/ipkernel.py:283: DeprecationWarning: `should_run_async` will not call `transform_cell` automatically in the future. Please pass the result to `transformed_cell` argument and any exception that happen during thetransform in `preprocessing_exc_tuple` in IPython 7.17 and above.\n",
            "  and should_run_async(code)\n"
          ]
        }
      ]
    },
    {
      "cell_type": "code",
      "source": [
        "from collections import Counter\n",
        "\n",
        "cnt = Counter(cnt_mecab)\n",
        "cnt.most_common(30)"
      ],
      "metadata": {
        "colab": {
          "base_uri": "https://localhost:8080/"
        },
        "id": "1AU_GbB-AyR9",
        "outputId": "c294ed4a-067f-46c5-b987-2bd518b09d7b"
      },
      "execution_count": null,
      "outputs": [
        {
          "output_type": "stream",
          "name": "stderr",
          "text": [
            "/usr/local/lib/python3.10/dist-packages/ipykernel/ipkernel.py:283: DeprecationWarning: `should_run_async` will not call `transform_cell` automatically in the future. Please pass the result to `transformed_cell` argument and any exception that happen during thetransform in `preprocessing_exc_tuple` in IPython 7.17 and above.\n",
            "  and should_run_async(code)\n"
          ]
        },
        {
          "output_type": "execute_result",
          "data": {
            "text/plain": [
              "[('사용', 2949),\n",
              " ('탈모', 2131),\n",
              " ('샴푸', 1652),\n",
              " ('구매', 1487),\n",
              " ('거품', 1412),\n",
              " ('효과', 1390),\n",
              " ('향', 1382),\n",
              " ('머리', 1267),\n",
              " ('것', 1149),\n",
              " ('거', 1084),\n",
              " ('배송', 1021),\n",
              " ('만족', 958),\n",
              " ('제품', 746),\n",
              " ('세정력', 664),\n",
              " ('머리카락', 594),\n",
              " ('두피', 585),\n",
              " ('느낌', 565),\n",
              " ('가격', 545),\n",
              " ('번', 517),\n",
              " ('후기', 513),\n",
              " ('달', 444),\n",
              " ('중', 428),\n",
              " ('감사', 413),\n",
              " ('기대', 410),\n",
              " ('후', 385),\n",
              " ('때', 364),\n",
              " ('전', 364),\n",
              " ('용량', 356),\n",
              " ('주문', 351),\n",
              " ('양', 329)]"
            ]
          },
          "metadata": {},
          "execution_count": 52
        }
      ]
    },
    {
      "cell_type": "markdown",
      "source": [
        "# LDA 및 시각화"
      ],
      "metadata": {
        "id": "lowafRusA1-g"
      }
    },
    {
      "cell_type": "code",
      "source": [
        "from gensim.models.ldamodel import LdaModel\n",
        "from gensim.models.callbacks import CoherenceMetric\n",
        "from gensim.corpora.dictionary import Dictionary\n",
        "from gensim.models.callbacks import PerplexityMetric\n",
        "\n",
        "dic = Dictionary(mecab_lst)\n",
        "dic.filter_extremes(no_below=2, no_above=0.5)"
      ],
      "metadata": {
        "colab": {
          "base_uri": "https://localhost:8080/"
        },
        "id": "ET1xFl9_A4ha",
        "outputId": "3370ba6a-344a-4af8-a91b-70d384e1b313"
      },
      "execution_count": null,
      "outputs": [
        {
          "output_type": "stream",
          "name": "stderr",
          "text": [
            "/usr/local/lib/python3.10/dist-packages/ipykernel/ipkernel.py:283: DeprecationWarning: `should_run_async` will not call `transform_cell` automatically in the future. Please pass the result to `transformed_cell` argument and any exception that happen during thetransform in `preprocessing_exc_tuple` in IPython 7.17 and above.\n",
            "  and should_run_async(code)\n"
          ]
        }
      ]
    },
    {
      "cell_type": "code",
      "source": [
        "corpus = [dic.doc2bow(comments) for comments in mecab_lst]"
      ],
      "metadata": {
        "colab": {
          "base_uri": "https://localhost:8080/"
        },
        "id": "yB61DENHA59n",
        "outputId": "c34f0658-426c-4b8c-c54f-88b3aedc2a78"
      },
      "execution_count": null,
      "outputs": [
        {
          "output_type": "stream",
          "name": "stderr",
          "text": [
            "/usr/local/lib/python3.10/dist-packages/ipykernel/ipkernel.py:283: DeprecationWarning: `should_run_async` will not call `transform_cell` automatically in the future. Please pass the result to `transformed_cell` argument and any exception that happen during thetransform in `preprocessing_exc_tuple` in IPython 7.17 and above.\n",
            "  and should_run_async(code)\n"
          ]
        }
      ]
    },
    {
      "cell_type": "code",
      "source": [
        "from gensim.models.nmf import CoherenceModel\n",
        "import matplotlib.pyplot as plt\n",
        "\n",
        "passes = 20\n",
        "coherence_values = []\n",
        "id2word = dic.id2token\n",
        "\n",
        "for i in tqdm(range(2,10)):\n",
        "    model = LdaModel(\n",
        "        corpus=corpus,\n",
        "        id2word=dic,\n",
        "        num_topics=i, # 최적의 토픽수 찾아보기\n",
        "        passes=passes,\n",
        "        random_state=42\n",
        "    )\n",
        "    coherence_model_lda = CoherenceModel(model=model, texts=mecab_lst, dictionary=dic, topn=10)\n",
        "    coherence_lda = coherence_model_lda.get_coherence()\n",
        "    coherence_values.append(coherence_lda)"
      ],
      "metadata": {
        "colab": {
          "base_uri": "https://localhost:8080/",
          "height": 105,
          "referenced_widgets": [
            "1b7c505590e24a2ba37aab2e964a1dd5",
            "76cfbc54a73a4b78bf65aaa250eaed63",
            "7d4f1a8029d542af8d5b5a9cca6bb6a9",
            "b771256bdefe41a191dde499de7005ed",
            "b7825bbf95f8476eb01199bfc3e9e5e7",
            "98f094cc23dc4b4aa82c73d90aa5c429",
            "485f983315ae45bd966d9c1b3daf60e3",
            "cbc99a9f3a684be9959ff279c62cb80d",
            "31f06fff512c49f9a23ffbc7c38525fe",
            "9727305f566d46df97c5190c4743b789",
            "ec313e51cfac4522a8fa8366d34e2971"
          ]
        },
        "id": "Kclvw7PJA7XX",
        "outputId": "88ef08d6-e5c3-46de-f32a-ee8487a5d7e6"
      },
      "execution_count": null,
      "outputs": [
        {
          "output_type": "stream",
          "name": "stderr",
          "text": [
            "/usr/local/lib/python3.10/dist-packages/ipykernel/ipkernel.py:283: DeprecationWarning: `should_run_async` will not call `transform_cell` automatically in the future. Please pass the result to `transformed_cell` argument and any exception that happen during thetransform in `preprocessing_exc_tuple` in IPython 7.17 and above.\n",
            "  and should_run_async(code)\n"
          ]
        },
        {
          "output_type": "display_data",
          "data": {
            "text/plain": [
              "  0%|          | 0/8 [00:00<?, ?it/s]"
            ],
            "application/vnd.jupyter.widget-view+json": {
              "version_major": 2,
              "version_minor": 0,
              "model_id": "1b7c505590e24a2ba37aab2e964a1dd5"
            }
          },
          "metadata": {}
        }
      ]
    },
    {
      "cell_type": "code",
      "source": [
        "x = range(2,10)\n",
        "plt.plot(x, coherence_values)\n",
        "plt.xlabel(\"number of topics\")\n",
        "plt.ylabel(\"coherence score\")\n",
        "plt.show()"
      ],
      "metadata": {
        "colab": {
          "base_uri": "https://localhost:8080/",
          "height": 505
        },
        "id": "4eCEbVuQA95Q",
        "outputId": "d023b8f1-c8a4-46c2-986c-d0231aa50b1d"
      },
      "execution_count": null,
      "outputs": [
        {
          "output_type": "stream",
          "name": "stderr",
          "text": [
            "/usr/local/lib/python3.10/dist-packages/ipykernel/ipkernel.py:283: DeprecationWarning: `should_run_async` will not call `transform_cell` automatically in the future. Please pass the result to `transformed_cell` argument and any exception that happen during thetransform in `preprocessing_exc_tuple` in IPython 7.17 and above.\n",
            "  and should_run_async(code)\n"
          ]
        },
        {
          "output_type": "display_data",
          "data": {
            "text/plain": [
              "<Figure size 640x480 with 1 Axes>"
            ],
            "image/png": "[encoded data removed]"
          },
          "metadata": {}
        }
      ]
    },
    {
      "cell_type": "code",
      "source": [
        "num_topics = 6\n",
        "passes = 20\n",
        "\n",
        "\n",
        "model = LdaModel(\n",
        "    corpus=corpus,\n",
        "    id2word=dic,\n",
        "    num_topics=num_topics,\n",
        "    passes=passes,\n",
        "    random_state=42\n",
        ")"
      ],
      "metadata": {
        "colab": {
          "base_uri": "https://localhost:8080/"
        },
        "id": "VPwSSUp0Bwgx",
        "outputId": "6b41e4b4-e615-4821-fc80-e6791e709fd1"
      },
      "execution_count": null,
      "outputs": [
        {
          "output_type": "stream",
          "name": "stderr",
          "text": [
            "/usr/local/lib/python3.10/dist-packages/ipykernel/ipkernel.py:283: DeprecationWarning: `should_run_async` will not call `transform_cell` automatically in the future. Please pass the result to `transformed_cell` argument and any exception that happen during thetransform in `preprocessing_exc_tuple` in IPython 7.17 and above.\n",
            "  and should_run_async(code)\n"
          ]
        }
      ]
    },
    {
      "cell_type": "code",
      "source": [
        "import pickle\n",
        "import pyLDAvis.gensim\n",
        "import pyLDAvis\n",
        "\n",
        "pyLDAvis.enable_notebook()\n",
        "p = pyLDAvis.gensim.prepare(model, corpus, dic)\n",
        "pyLDAvis.display(p)\n",
        "\n"
      ],
      "metadata": {
        "colab": {
          "base_uri": "https://localhost:8080/",
          "height": 917
        },
        "id": "sZuFL_5CByJn",
        "outputId": "274505c0-151b-4144-bdf4-1bb7fb53f74a"
      },
      "execution_count": null,
      "outputs": [
        {
          "output_type": "stream",
          "name": "stderr",
          "text": [
            "/usr/local/lib/python3.10/dist-packages/ipykernel/ipkernel.py:283: DeprecationWarning: `should_run_async` will not call `transform_cell` automatically in the future. Please pass the result to `transformed_cell` argument and any exception that happen during thetransform in `preprocessing_exc_tuple` in IPython 7.17 and above.\n",
            "  and should_run_async(code)\n"
          ]
        },
        {
          "output_type": "execute_result",
          "data": {
            "text/plain": [
              "<IPython.core.display.HTML object>"
            ],
            "text/html": [
              "\n",
              "<link rel=\"stylesheet\" type=\"text/css\" href=\"https://cdn.jsdelivr.net/gh/bmabey/pyLDAvis@3.4.0/pyLDAvis/js/ldavis.v1.0.0.css\">\n",
              "\n",
              "\n",
              "<div id=\"ldavis_el44731392563635239207634454405\" style=\"background-color:white;\"></div>\n",
              "<script type=\"text/javascript\">\n",
              "\n",
              "var ldavis_el44731392563635239207634454405_data = {\"mdsDat\": {\"x\": [-0.10071500801887687, -0.20065337233736424, 0.28429043770528906, 0.2678538527320997, -0.22093296224640863, -0.02984294783473976], \"y\": [-0.13390640435320852, -0.11392763666014404, -0.07609707355612784, -0.0393208456589988, -0.03485305386461293, 0.39810501409309196], \"topics\": [1, 2, 3, 4, 5, 6], \"cluster\": [1, 1, 1, 1, 1, 1], \"Freq\": [25.24733500918931, 24.117523345664864, 15.641070400840023, 13.721285383619563, 12.450806225979855, 8.82197963470639]}, \"tinfo\": {\"Term\": [\"\\uc0ac\\uc6a9\", \"\\ubc30\\uc1a1\", \"\\ud0c8\\ubaa8\", \"\\uad6c\\ub9e4\", \"\\ub9cc\\uc871\", \"\\uba38\\ub9ac\", \"\\uac70\\ud488\", \"\\ud5a5\", \"\\ud6a8\\uacfc\", \"\\uc81c\\ud488\", \"\\uac00\\uaca9\", \"\\uac10\\uc0ac\", \"\\ud6c4\\uae30\", \"\\uc0f4\\ud478\", \"\\uc911\", \"\\uba38\\ub9ac\\uce74\\ub77d\", \"\\ub2ec\", \"\\uae30\\ub300\", \"\\uc6a9\\ub7c9\", \"\\uc138\\uc815\\ub825\", \"\\ubc31\\uc11c\", \"\\uc0b4\\ub9bc\", \"\\uc804\", \"\\uc591\", \"\\ub290\\ub08c\", \"\\ub450\\ud53c\", \"\\uc0c1\\ud488\", \"\\uac83\", \"\\ub9ac\\ubdf0\", \"\\ud6c4\", \"\\uba38\\ub9ac\\uce74\\ub77d\", \"\\uc815\\ub3c4\", \"\\uc800\", \"\\ud6a8\\ubaa8\", \"\\ub9e5\\uc8fc\", \"\\ubaa8\\ubc1c\", \"\\uc5bc\\ub9c8\", \"\\uc81c\", \"\\ud2b8\", \"\\uc0bc\", \"\\uac71\\uc815\", \"\\uc0f4\", \"\\ud2b8\\ub9ac\\ud2b8\", \"\\ud4e8\", \"\\uc77c\\ubc18\", \"\\ud478\", \"\\ub208\", \"\\ud798\", \"\\uae30\\ub984\", \"\\ubd84\", \"\\ube44\\uc624\\ud2f4\", \"\\uc5ec\\uae30\", \"\\ud544\\uc694\", \"\\uacb0\\uacfc\", \"\\ub9d0\", \"\\uc694\\uc998\", \"\\ucd9c\\uc0b0\", \"\\uac78\", \"\\uc608\\uc804\", \"\\uc8fc\\uc77c\", \"\\ub54c\", \"\\uc0f4\\ud478\", \"\\uc77c\", \"\\uba38\\ub9ac\", \"\\ub0a8\\ud3b8\", \"\\ub4ef\", \"\\ub290\\ub08c\", \"\\ud6c4\", \"\\uc774\\uac70\", \"\\ub450\\ud53c\", \"\\ud0c8\\ubaa8\", \"\\uac70\", \"\\ub9b0\\uc2a4\", \"\\uac83\", \"\\uae30\\ubd84\", \"\\uc218\", \"\\uc0ac\\uc6a9\", \"\\ub370\", \"\\uac8c\", \"\\ubc88\", \"\\uc790\\uadf9\", \"\\ub0c4\\uc0c8\", \"\\uc608\\ubc29\", \"\\ucf00\\uc5b4\", \"\\ub3c4\\uc6c0\", \"\\ub098\", \"\\ubc29\\uc9c0\", \"\\ucfe8\\ub9c1\", \"\\uc644\\ud654\", \"\\uc815\\ucc29\", \"\\uad00\\ub9ac\", \"\\uc810\", \"\\ucc28\\uc6d0\", \"\\uc815\\uc218\\ub9ac\", \"\\uac74\\uc9c0\", \"\\ub3d9\\uc0dd\", \"\\uc18c\\ub7c9\", \"\\uae30\\ub2a5\", \"\\uac01\\uc9c8\", \"\\uc194\", \"\\uc560\", \"\\uc5ec\\ub984\", \"\\ubd80\\uc871\", \"\\uc57d\", \"\\ubd80\\ub2f4\", \"\\uc774\\uac8c\", \"\\ub538\\uc544\\uc774\", \"\\uac00\\ub824\\uc6c0\\uc99d\", \"\\uc885\\ub958\", \"\\ucfe8\", \"\\ud5a5\", \"\\uac70\\ud488\", \"\\ud0c8\\ubaa8\", \"\\uc138\\uc815\\ub825\", \"\\uc870\\uae08\", \"\\ub450\\ud53c\", \"\\uac83\", \"\\uba70\\uce60\", \"\\ud6a8\\uacfc\", \"\\uc2dc\\uc791\", \"\\uac1c\\uc120\", \"\\uac74\", \"\\uc0dd\\uac01\", \"\\uc0f4\\ud478\", \"\\uac70\", \"\\ub9cc\\uc871\", \"\\ubc88\", \"\\ub4ef\", \"\\ub9d8\", \"\\uc591\", \"\\uc218\", \"\\ud5a5\\uae30\", \"\\ud5a5\\ub3c4\", \"\\ub290\\ub08c\", \"\\ud6c4\\uae30\", \"\\ub2ec\", \"\\uae30\\ub300\", \"\\uc804\\uc774\", \"\\uac8c\\uc694\", \"\\ucd94\\ucc9c\", \"\\uaed8\", \"\\uc9c0\\uc778\", \"\\uce5c\\uad6c\", \"\\uac08\\uc0c9\", \"\\ud655\\uc778\", \"\\uc9c0\\uc18d\", \"\\uc544\\ube60\", \"\\uae30\\ud55c\", \"\\ubcc0\\ud654\", \"\\uc791\\uc131\", \"\\ud3c9\\uac00\", \"\\uc8fc\\ubcc0\", \"\\ucd08\\ubc18\", \"\\uc218\\uace0\", \"\\uc0c9\", \"\\ucd09\\uac10\", \"\\uac04\", \"\\uc801\\uadf9\", \"\\uc720\\ud1b5\", \"\\ud3c9\\ubcf4\", \"\\ud06c\\uae30\", \"\\ubb34\\ub9ac\", \"\\ud328\\ud0a4\\uc9c0\", \"\\ubc15\\ud558\", \"\\uc804\", \"\\uc0ac\\uc6a9\", \"\\ub4a4\", \"\\ub9ac\\ubdf0\", \"\\uc120\\ubb3c\", \"\\ud6a8\\uacfc\", \"\\ud6c4\", \"\\ub9d8\", \"\\ub9cc\", \"\\uad11\\uace0\", \"\\uad6c\\ub9e4\", \"\\ubc88\", \"\\uc544\\ub4e4\", \"\\uac70\", \"\\uc8fc\\ubb38\", \"\\uc55e\", \"\\uad6c\\uc785\", \"\\ub3d9\\uc548\", \"\\uac74\\ub370\", \"\\uc0dd\\uac01\", \"\\uc911\", \"\\ubc31\\uc11c\", \"\\uc0b4\\ub9bc\", \"\\uc870\\uc544\", \"\\uac00\\uc131\", \"\\uc758\\uc0ac\", \"\\ud3c9\", \"\\uac1c\", \"\\ube44\", \"\\uc9c0\", \"\\ubd80\\ubaa8\", \"\\ube0c\\ub79c\\ub4dc\", \"\\ubc14\\ub514\", \"\\uc774\\uc6a9\", \"\\ubd88\\ub7c9\", \"\\ud2b8\\ub7ec\\ube14\", \"\\ubbf8\", \"\\uc6a9\", \"\\ud38c\\ud504\", \"\\uc6a9\\uae30\", \"\\uc694\\uc870\", \"\\ub2f9\", \"\\ubbf8\\uc6a9\\uc2e4\", \"\\ud604\\uc7ac\", \"\\uba38\\ub9ac\\ud138\", \"\\uae00\", \"\\uac81\\ub2c8\\ub2e4\", \"\\uc695\\uc2e4\", \"\\uacf3\", \"\\uc88b\", \"\\uc81c\\ud488\", \"\\uad6c\\ub9e4\", \"\\ucc98\\uc74c\", \"\\uc608\\uc815\", \"\\ud558\\ub098\", \"\\ucd94\\uac00\", \"\\uac8c\", \"\\uc0ac\\uc6a9\", \"\\uc774\\ubc88\", \"\\uad6c\\uc785\", \"\\ub9ac\\ubdf0\", \"\\ubc88\", \"\\uc0f4\\ud478\", \"\\uac83\", \"\\uae30\\uc874\", \"\\uc804\", \"\\ud1b5\", \"\\uac00\\uaca9\", \"\\uc6a9\\ub7c9\", \"\\ub300\\ube44\", \"\\uacb0\", \"\\uad7f\", \"\\uac00\\uc871\", \"\\ucd5c\\uace0\", \"\\uc544\\uc774\", \"\\uc774\\uac83\", \"\\ubc88\\ucc3d\", \"\\uc138\\uc77c\", \"\\uc624\", \"\\ub098\\ub984\", \"\\ud560\\uc778\", \"\\uc9f1\", \"\\ubb3c\\uac74\", \"\\uc6b0\\uc218\", \"\\uc57d\\uac04\", \"\\ubcd1\", \"\\ubc24\\ubd80\", \"\\ud488\", \"\\ubcf4\\uc2b5\", \"\\ud47c\", \"\\uc2b5\", \"\\uc544\\ubc84\\uc9c0\", \"\\u3145\", \"\\ud478\\uc2dc\", \"\\ub109\", \"\\uc774\\uac78\", \"\\ud15c\", \"\\ub9c8\\uc74c\", \"\\uc131\\ube44\", \"\\uc591\", \"\\ud5a5\\uae30\", \"\\ud5a5\\ub3c4\", \"\\ub300\\uc6a9\\ub7c9\", \"\\uba38\\ub9ac\", \"\\ub370\", \"\\ub290\\ub08c\", \"\\uac70\\ud488\", \"\\ub9cc\\uc871\", \"\\uc131\\ubd84\", \"\\ud5a5\", \"\\uc138\\uc815\\ub825\", \"\\uac83\", \"\\uac70\", \"\\uad6c\\ub9e4\", \"\\ub54c\", \"\\ubc88\", \"\\uac8c\", \"\\ubc30\\uc1a1\", \"\\uac10\\uc0ac\", \"\\uc0c1\\ud488\", \"\\ud3ec\\uc7a5\", \"\\ub2e4\\uc74c\", \"\\ub3c4\\ucc29\", \"\\ud488\\ud3c9\", \"\\uc0c1\", \"\\uac15\\ucd94\", \"\\uac74\\uac15\", \"\\ubc15\\uc2a4\", \"\\uc560\\uc6a9\", \"\\uc644\\uc804\", \"\\ud0dd\\ubc30\", \"\\ub2f4\", \"\\ub300\\ubc15\", \"\\ud310\\ub9e4\", \"\\uc131\\ub2a5\", \"\\uc6b0\\ub9ac\", \"\\uc724\\uae30\", \"\\uc800\\ubc88\", \"\\ud68c\\uc0ac\", \"\\uc18d\", \"\\uc784\\uc0b0\\ubd80\", \"\\ub9c8\\ud2b8\", \"\\ub0b4\\uc694\", \"\\ubd80\", \"\\ube60\\ub984\", \"\\uad50\\uccb4\", \"\\uc6cc\", \"\\uc0c1\\ud0dc\", \"\\ub9cc\\uc871\", \"\\uc804\\uccb4\", \"\\uc8fc\\ubb38\", \"\\uc81c\\ud488\", \"\\uac70\", \"\\uc2dc\", \"\\ud488\\uc9c8\", \"\\uc774\\uc0c1\", \"\\uc131\\ube44\", \"\\uc218\", \"\\uc5ec\", \"\\uc6d0\"], \"Freq\": [2862.0, 1048.0, 1982.0, 1469.0, 986.0, 1244.0, 1319.0, 1306.0, 1320.0, 770.0, 538.0, 414.0, 471.0, 1608.0, 424.0, 584.0, 430.0, 413.0, 341.0, 623.0, 308.0, 294.0, 355.0, 326.0, 551.0, 558.0, 169.0, 1101.0, 299.0, 381.0, 583.7986677360047, 209.8148272304573, 197.35874203876494, 189.1288808039834, 188.24772364928378, 127.12978828734458, 96.57747473461329, 89.43101850898941, 89.04404386153277, 88.81243369744409, 82.91681518361334, 79.9881849843366, 77.88466668661081, 73.68247398650743, 72.67937245840217, 70.78342753207724, 50.79932002245316, 49.26371108711002, 48.360427018459866, 48.35695602145036, 47.74682449927269, 44.388693019322396, 43.91904553400304, 43.98034156970915, 43.0470530293022, 42.036550029104895, 41.795393239269984, 34.695906190882354, 34.626411516306916, 34.49504784240419, 315.7298153651528, 1016.750883388496, 98.32129920348345, 677.515454131465, 119.8650192258561, 179.26163900862315, 271.5219795584308, 195.7771410090758, 55.682293150372615, 208.17700379944674, 431.3953046493769, 293.1329051688343, 75.04302177602678, 256.4276930607784, 72.01724794752712, 87.29151698867707, 176.72849764085504, 81.75157325453304, 80.85806001478524, 76.46466354161768, 239.3120458674138, 202.13663912070558, 197.62582500091045, 187.45427770821178, 167.07157487038268, 133.85119755313937, 101.73053358158302, 86.10651637439446, 76.31465304916506, 44.67343930547542, 35.744893103175286, 35.43883342068339, 30.851843482960497, 29.29135765941868, 24.70091720304269, 21.833287659213067, 19.96166949414795, 54.49570950006161, 18.77324609016925, 16.699989398096854, 16.68296022921925, 15.449916727516152, 15.377540446220197, 14.872055327995067, 14.324410424387848, 14.433372779709016, 13.547401217071142, 13.093508623917703, 13.174741236423277, 12.611238489427588, 1079.733948987973, 1059.0123496928222, 1550.33955361182, 498.5511568896097, 26.969589590206606, 349.7187010422748, 619.921587863618, 37.02963621501173, 659.8151466284735, 39.870557951243704, 39.265498268101865, 105.84111926652605, 104.65009012604726, 437.3682206123687, 279.20915826987056, 218.8927384470303, 135.365660596853, 101.26050155099011, 66.99496874391272, 90.68625096868125, 71.82291329072122, 72.9766662534442, 71.64684429676741, 61.65009684173634, 470.4441934062796, 429.448047442543, 412.2110549092936, 147.1205072893534, 137.4516072689238, 132.29033449482432, 87.4925418043091, 33.05965420568386, 32.86023250829504, 21.44743350530732, 19.76756772272078, 19.316722002884546, 17.982515808715036, 18.006479816256213, 17.737956038302496, 17.439433952804926, 16.753979313057865, 15.192988726090976, 12.248663586024001, 11.61146791330602, 10.6225397696875, 10.499879204003653, 9.918345190304393, 9.26908434713491, 8.799727610382254, 8.623533423844881, 8.496400719937965, 8.208624284047321, 7.908501454289307, 7.697450997176656, 302.2475686924031, 2062.7696399260294, 34.44920996947156, 208.3800212875397, 48.77200770802112, 651.6744397066136, 184.55893011448447, 76.39724918216695, 34.796959870961416, 15.103710580214491, 346.1980146535854, 152.57355278696963, 31.390137101845877, 191.28396969939405, 82.54085592521591, 34.04382298594421, 49.04122425585295, 21.65398524515455, 19.649740255802932, 24.18635237651365, 423.26036157766134, 307.8288858512922, 293.20362150495276, 161.53811727685445, 100.85979473133037, 72.44226000129129, 71.25062162679595, 71.56806612777494, 69.66664240391688, 46.45602846812678, 45.30666407842234, 37.50543658420396, 34.55710669796005, 32.60456668333286, 29.05710512978614, 25.374698373775153, 25.251570992978987, 19.53739998886946, 76.06633581878361, 18.810637050995247, 18.683794036349767, 18.43955203511792, 17.265953288606795, 17.138705615861937, 15.665214601470545, 13.334880369764429, 12.92713543611065, 12.818225243780027, 11.967919736873855, 11.29261832781267, 603.992402340883, 1003.6542348002753, 133.796478908584, 41.92181190000747, 55.10801276081198, 25.964027988380735, 118.36428118292685, 622.6647531275601, 38.4275004578632, 81.05490069571938, 90.68034194499015, 89.65352728288424, 153.46331984718304, 88.92253123017117, 37.061341619645376, 52.6630113607666, 38.13498831130469, 537.5966910697641, 340.97342000257146, 160.44208262317787, 153.00469576327745, 145.5260853354675, 97.23835946779037, 70.18118057914796, 47.62245938274608, 35.44907425816766, 30.397991432780596, 28.92018931409, 27.128318208681197, 25.721483417659968, 24.82183228376849, 23.98971955030835, 17.627779136113727, 16.266116912404723, 14.650386468567913, 12.805817447175196, 11.220641584268394, 11.071733047855162, 10.899918130876058, 10.050517434251221, 9.655319919879597, 9.300228705525623, 9.324362237997144, 8.515655481985489, 8.47976572505633, 7.733439645921503, 7.565730022998287, 92.52496045444715, 152.45833879648322, 234.81206364862575, 142.3084193278367, 135.4324701624876, 103.37951355035949, 566.2754522378601, 105.47980792470922, 218.11762158047208, 259.74510401443354, 210.39515327319535, 65.22412570912111, 225.04621679109053, 124.61498005716726, 135.72746710646302, 114.6571023541516, 108.6377188691345, 45.907285953949824, 41.37801705724397, 32.48110841048883, 1047.5440385806023, 413.25611461601625, 169.17880957849923, 130.29849168821707, 84.78172655528971, 53.30464377924671, 40.15974586680468, 35.22300877350812, 32.39259194893472, 30.020902693671665, 24.655851966607983, 22.585615241332203, 22.45419098332311, 19.14234494550786, 15.98467703734165, 14.70783723392585, 14.233635755223032, 13.905505505204959, 12.876164107427451, 12.39715864672873, 12.353515626075803, 12.026863226770379, 11.415179075880424, 10.41119616490593, 10.473072458880127, 9.9952904806104, 10.039101790546052, 8.832471502138615, 8.416394627021008, 8.243215283300799, 38.47689172676238, 557.0600881844048, 20.21831698229653, 133.86277358447694, 164.554978358213, 147.08871729424706, 20.28220501022512, 19.332304858511115, 23.858027295688764, 31.999000069476615, 32.76596977087031, 15.789376357561391, 15.946926075943612], \"Total\": [2862.0, 1048.0, 1982.0, 1469.0, 986.0, 1244.0, 1319.0, 1306.0, 1320.0, 770.0, 538.0, 414.0, 471.0, 1608.0, 424.0, 584.0, 430.0, 413.0, 341.0, 623.0, 308.0, 294.0, 355.0, 326.0, 551.0, 558.0, 169.0, 1101.0, 299.0, 381.0, 584.6298093288958, 210.64591521237784, 198.19023228239118, 189.95847027978587, 189.07709838293667, 127.95986262313262, 97.41108701191087, 90.26241496639462, 89.8732037250618, 89.64213567113605, 83.74672097461088, 80.81848662570488, 78.71396738902492, 74.51190581382411, 73.51028280741389, 71.6124363418112, 51.63013790568997, 50.09280461488281, 49.189678055769086, 49.18899743031304, 48.57590507857535, 45.22049649050887, 44.74971099020983, 44.81255537452218, 43.87943436984755, 42.86572437312847, 42.6256330327583, 35.52748890172754, 35.45658948442356, 35.32484914123871, 362.3022376811226, 1608.0878801775032, 116.159216386092, 1244.45604142479, 152.25502291055176, 301.39429832421484, 551.7995363649361, 381.00501848286626, 62.79038997683664, 558.571415573964, 1982.4107103496044, 1052.5846526609512, 103.82344733554811, 1101.3390539227184, 102.06607085462122, 200.5649739706933, 2862.6623661546014, 187.89733516504796, 267.54710902638305, 496.4813312993585, 240.1480812442141, 202.97399625673486, 198.46199163280176, 188.29058783003458, 167.90858788039876, 134.68873722987988, 102.56614384379534, 86.96955826206455, 77.15178335887667, 45.51354940730307, 36.582238200957256, 36.27797003321804, 31.68766281362881, 30.131747827859176, 25.540921779335786, 22.678867331977873, 20.79732002109865, 56.87861992036498, 19.610171605074914, 17.53830141932542, 17.52121724070986, 16.28723351035668, 16.21526584067018, 15.710927000411559, 15.165307923410438, 15.2807294602764, 14.386234909506003, 13.932641734421507, 14.019554999476128, 13.445800033177088, 1306.6708253548259, 1319.4717036086063, 1982.4107103496044, 623.8379923851058, 30.8046592711356, 558.571415573964, 1101.3390539227184, 45.00582203384461, 1320.3670563068772, 49.10915759224029, 50.428635995555354, 180.6714715074656, 185.5313514386122, 1608.0878801775032, 1052.5846526609512, 986.8448148309301, 496.4813312993585, 301.39429832421484, 144.0694937287706, 326.1782675787953, 200.5649739706933, 215.95707632244634, 207.75121074193433, 551.7995363649361, 471.2740983293235, 430.27818116333526, 413.0411666925905, 147.94941630127482, 138.2804484464058, 133.1209042042874, 88.320838024883, 33.89070297331244, 33.692996318742935, 22.315156276337355, 20.599411062553543, 20.14689438384235, 18.813608996505426, 18.84298811628361, 18.5724749785895, 18.268669803629173, 17.58453055001898, 16.026513712239606, 13.078786664751405, 12.445872122073938, 11.457840507473614, 11.330053165054162, 10.748046404275216, 10.098605205280064, 9.641367800096733, 9.452261094332513, 9.342734007077274, 9.065609633535718, 8.744149399512365, 8.532292905615645, 355.5709854689354, 2862.6623661546014, 40.31967352465541, 299.7202422793203, 66.97718888841851, 1320.3670563068772, 381.00501848286626, 144.0694937287706, 53.2997014173589, 18.306667294325617, 1469.5447596489103, 496.4813312993585, 55.209503535594656, 1052.5846526609512, 336.6503121574368, 66.27010484559868, 235.07959319730807, 34.34310731092392, 32.432670798796615, 185.5313514386122, 424.29607235056983, 308.64948445901985, 294.0242336561515, 162.3567071253425, 101.67944465356906, 73.26927062059359, 72.07146227693627, 72.39324833935221, 70.4852176723888, 47.2794442462511, 46.1281709357708, 38.32630881215556, 35.378434162788615, 33.42513494975931, 29.876642525995802, 26.195857135186543, 26.073926234394108, 20.357741676409898, 79.32589030136363, 19.632587493309043, 19.50156927409758, 19.26346267661981, 18.08838867274343, 17.961960431240126, 16.48853277297154, 14.154189630391368, 13.750824869775, 13.63811190015691, 12.787661167649281, 12.113643603515202, 770.4185405226461, 1469.5447596489103, 175.84997531804615, 54.070838974822664, 74.71565094385556, 31.204603559351014, 267.54710902638305, 2862.6623661546014, 57.442943562047155, 235.07959319730807, 299.7202422793203, 496.4813312993585, 1608.0878801775032, 1101.3390539227184, 90.39975339307571, 355.5709854689354, 103.41693117403243, 538.4234560739892, 341.79968791516643, 161.26680498956392, 153.83144246673922, 146.35070010901106, 98.12678435409475, 71.00727153627345, 48.449542278410995, 36.27762819176044, 31.225170425962077, 29.74744373741152, 27.957850257972865, 26.547146971797044, 25.650015917284826, 24.814937923254707, 18.454859002954993, 17.091786111408968, 15.478626979259376, 13.63995459521431, 12.053157363014895, 11.901729190416498, 11.731148456637921, 10.881499112329157, 10.483605131777278, 10.12681643460894, 10.154060783726754, 9.341603309461165, 9.305783440471163, 8.570273133642345, 8.393727251432491, 110.87636973778798, 186.4613098680822, 326.1782675787953, 215.95707632244634, 207.75121074193433, 154.56909886615995, 1244.45604142479, 187.89733516504796, 551.7995363649361, 1319.4717036086063, 986.8448148309301, 173.23647835261102, 1306.6708253548259, 623.8379923851058, 1101.3390539227184, 1052.5846526609512, 1469.5447596489103, 362.3022376811226, 496.4813312993585, 267.54710902638305, 1048.357045718569, 414.068706301966, 169.9935220947452, 131.11192785473858, 85.59720251903262, 54.1184961667074, 40.97373993962023, 36.036822536530494, 33.207184830305806, 30.83671692708955, 25.470765500469437, 23.401567538453623, 23.271836930948993, 19.962329457759225, 16.800348692716152, 15.523622671532271, 15.051980408631527, 14.721239152684708, 13.69534136950207, 13.212485218495562, 13.171456596515839, 12.84501316842677, 12.230197723597291, 11.225924799019625, 11.29305306383312, 10.808618905829988, 10.858306326206394, 9.644671132960163, 9.23524689356029, 9.056653838684246, 49.52525351333622, 986.8448148309301, 27.846369578327405, 336.6503121574368, 770.4185405226461, 1052.5846526609512, 35.08502086205565, 36.29566485161878, 63.36740927020088, 186.4613098680822, 200.5649739706933, 46.152685767886354, 50.01346421679679], \"Category\": [\"Default\", \"Default\", \"Default\", \"Default\", \"Default\", \"Default\", \"Default\", \"Default\", \"Default\", \"Default\", \"Default\", \"Default\", \"Default\", \"Default\", \"Default\", \"Default\", \"Default\", \"Default\", \"Default\", \"Default\", \"Default\", \"Default\", \"Default\", \"Default\", \"Default\", \"Default\", \"Default\", \"Default\", \"Default\", \"Default\", \"Topic1\", \"Topic1\", \"Topic1\", \"Topic1\", \"Topic1\", \"Topic1\", \"Topic1\", \"Topic1\", \"Topic1\", \"Topic1\", \"Topic1\", \"Topic1\", \"Topic1\", \"Topic1\", \"Topic1\", \"Topic1\", \"Topic1\", \"Topic1\", \"Topic1\", \"Topic1\", \"Topic1\", \"Topic1\", \"Topic1\", \"Topic1\", \"Topic1\", \"Topic1\", \"Topic1\", \"Topic1\", \"Topic1\", \"Topic1\", \"Topic1\", \"Topic1\", \"Topic1\", \"Topic1\", \"Topic1\", \"Topic1\", \"Topic1\", \"Topic1\", \"Topic1\", \"Topic1\", \"Topic1\", \"Topic1\", \"Topic1\", \"Topic1\", \"Topic1\", \"Topic1\", \"Topic1\", \"Topic1\", \"Topic1\", \"Topic1\", \"Topic2\", \"Topic2\", \"Topic2\", \"Topic2\", \"Topic2\", \"Topic2\", \"Topic2\", \"Topic2\", \"Topic2\", \"Topic2\", \"Topic2\", \"Topic2\", \"Topic2\", \"Topic2\", \"Topic2\", \"Topic2\", \"Topic2\", \"Topic2\", \"Topic2\", \"Topic2\", \"Topic2\", \"Topic2\", \"Topic2\", \"Topic2\", \"Topic2\", \"Topic2\", \"Topic2\", \"Topic2\", \"Topic2\", \"Topic2\", \"Topic2\", \"Topic2\", \"Topic2\", \"Topic2\", \"Topic2\", \"Topic2\", \"Topic2\", \"Topic2\", \"Topic2\", \"Topic2\", \"Topic2\", \"Topic2\", \"Topic2\", \"Topic2\", \"Topic2\", \"Topic2\", \"Topic2\", \"Topic2\", \"Topic2\", \"Topic2\", \"Topic2\", \"Topic2\", \"Topic2\", \"Topic2\", \"Topic3\", \"Topic3\", \"Topic3\", \"Topic3\", \"Topic3\", \"Topic3\", \"Topic3\", \"Topic3\", \"Topic3\", \"Topic3\", \"Topic3\", \"Topic3\", \"Topic3\", \"Topic3\", \"Topic3\", \"Topic3\", \"Topic3\", \"Topic3\", \"Topic3\", \"Topic3\", \"Topic3\", \"Topic3\", \"Topic3\", \"Topic3\", \"Topic3\", \"Topic3\", \"Topic3\", \"Topic3\", \"Topic3\", \"Topic3\", \"Topic3\", \"Topic3\", \"Topic3\", \"Topic3\", \"Topic3\", \"Topic3\", \"Topic3\", \"Topic3\", \"Topic3\", \"Topic3\", \"Topic3\", \"Topic3\", \"Topic3\", \"Topic3\", \"Topic3\", \"Topic3\", \"Topic3\", \"Topic3\", \"Topic3\", \"Topic3\", \"Topic4\", \"Topic4\", \"Topic4\", \"Topic4\", \"Topic4\", \"Topic4\", \"Topic4\", \"Topic4\", \"Topic4\", \"Topic4\", \"Topic4\", \"Topic4\", \"Topic4\", \"Topic4\", \"Topic4\", \"Topic4\", \"Topic4\", \"Topic4\", \"Topic4\", \"Topic4\", \"Topic4\", \"Topic4\", \"Topic4\", \"Topic4\", \"Topic4\", \"Topic4\", \"Topic4\", \"Topic4\", \"Topic4\", \"Topic4\", \"Topic4\", \"Topic4\", \"Topic4\", \"Topic4\", \"Topic4\", \"Topic4\", \"Topic4\", \"Topic4\", \"Topic4\", \"Topic4\", \"Topic4\", \"Topic4\", \"Topic4\", \"Topic4\", \"Topic4\", \"Topic4\", \"Topic4\", \"Topic5\", \"Topic5\", \"Topic5\", \"Topic5\", \"Topic5\", \"Topic5\", \"Topic5\", \"Topic5\", \"Topic5\", \"Topic5\", \"Topic5\", \"Topic5\", \"Topic5\", \"Topic5\", \"Topic5\", \"Topic5\", \"Topic5\", \"Topic5\", \"Topic5\", \"Topic5\", \"Topic5\", \"Topic5\", \"Topic5\", \"Topic5\", \"Topic5\", \"Topic5\", \"Topic5\", \"Topic5\", \"Topic5\", \"Topic5\", \"Topic5\", \"Topic5\", \"Topic5\", \"Topic5\", \"Topic5\", \"Topic5\", \"Topic5\", \"Topic5\", \"Topic5\", \"Topic5\", \"Topic5\", \"Topic5\", \"Topic5\", \"Topic5\", \"Topic5\", \"Topic5\", \"Topic5\", \"Topic5\", \"Topic5\", \"Topic5\", \"Topic6\", \"Topic6\", \"Topic6\", \"Topic6\", \"Topic6\", \"Topic6\", \"Topic6\", \"Topic6\", \"Topic6\", \"Topic6\", \"Topic6\", \"Topic6\", \"Topic6\", \"Topic6\", \"Topic6\", \"Topic6\", \"Topic6\", \"Topic6\", \"Topic6\", \"Topic6\", \"Topic6\", \"Topic6\", \"Topic6\", \"Topic6\", \"Topic6\", \"Topic6\", \"Topic6\", \"Topic6\", \"Topic6\", \"Topic6\", \"Topic6\", \"Topic6\", \"Topic6\", \"Topic6\", \"Topic6\", \"Topic6\", \"Topic6\", \"Topic6\", \"Topic6\", \"Topic6\", \"Topic6\", \"Topic6\", \"Topic6\"], \"logprob\": [30.0, 29.0, 28.0, 27.0, 26.0, 25.0, 24.0, 23.0, 22.0, 21.0, 20.0, 19.0, 18.0, 17.0, 16.0, 15.0, 14.0, 13.0, 12.0, 11.0, 10.0, 9.0, 8.0, 7.0, 6.0, 5.0, 4.0, 3.0, 2.0, 1.0, -3.0137, -4.0371, -4.0983, -4.1409, -4.1455, -4.5381, -4.813, -4.8898, -4.8942, -4.8968, -4.9655, -5.0014, -5.0281, -5.0835, -5.0972, -5.1237, -5.4554, -5.4861, -5.5046, -5.5047, -5.5174, -5.5903, -5.601, -5.5996, -5.621, -5.6448, -5.6505, -5.8367, -5.8387, -5.8425, -3.6284, -2.4589, -4.7951, -2.8649, -4.5969, -4.1945, -3.7793, -4.1063, -5.3636, -4.0449, -3.3163, -3.7027, -5.0652, -3.8365, -5.1064, -4.914, -4.2087, -4.9796, -4.9906, -5.0465, -3.8598, -4.0286, -4.0511, -4.104, -4.2191, -4.4408, -4.7152, -4.8819, -5.0027, -5.5381, -5.7611, -5.7697, -5.9083, -5.9602, -6.1307, -6.2541, -6.3437, -5.3394, -6.4051, -6.5221, -6.5231, -6.5999, -6.6046, -6.638, -6.6756, -6.668, -6.7313, -6.7654, -6.7592, -6.8029, -2.3531, -2.3724, -1.9913, -3.1258, -6.0428, -3.4804, -2.9079, -5.7258, -2.8456, -5.6519, -5.6672, -4.6756, -4.6869, -3.2567, -3.7056, -3.9489, -4.4295, -4.7198, -5.1329, -4.8301, -5.0633, -5.0474, -5.0658, -5.216, -2.7508, -2.842, -2.8829, -3.9132, -3.9812, -4.0195, -4.4329, -5.4062, -5.4122, -5.8389, -5.9204, -5.9435, -6.0151, -6.0138, -6.0288, -6.0457, -6.0858, -6.1836, -6.3991, -6.4525, -6.5415, -6.5531, -6.6101, -6.6778, -6.7298, -6.75, -6.7648, -6.7993, -6.8365, -6.8636, -3.1932, -1.2727, -5.365, -3.5651, -5.0173, -2.4249, -3.6865, -4.5685, -5.355, -6.1895, -3.0575, -3.8768, -5.458, -3.6507, -4.4912, -5.3768, -5.0118, -5.8293, -5.9264, -5.7187, -2.7255, -3.044, -3.0927, -3.6888, -4.1598, -4.4907, -4.5073, -4.5029, -4.5298, -4.935, -4.9601, -5.149, -5.2309, -5.2891, -5.4043, -5.5398, -5.5446, -5.8012, -4.4419, -5.8391, -5.8459, -5.859, -5.9248, -5.9322, -6.0221, -6.1831, -6.2142, -6.2227, -6.2913, -6.3494, -2.37, -1.8621, -3.8772, -5.0377, -4.7642, -5.5168, -3.9998, -2.3395, -5.1248, -4.3784, -4.2662, -4.2776, -3.7401, -4.2858, -5.161, -4.8096, -5.1324, -2.3893, -2.8446, -3.5984, -3.6459, -3.696, -4.0992, -4.4253, -4.8131, -5.1083, -5.262, -5.3118, -5.3758, -5.429, -5.4646, -5.4987, -5.8069, -5.8873, -5.9919, -6.1265, -6.2586, -6.272, -6.2876, -6.3687, -6.4089, -6.4463, -6.4437, -6.5345, -6.5387, -6.6308, -6.6527, -4.1489, -3.6495, -3.2176, -3.7184, -3.7679, -4.038, -2.3373, -4.0178, -3.2913, -3.1167, -3.3274, -4.4985, -3.2601, -3.8511, -3.7657, -3.9344, -3.9883, -4.8497, -4.9536, -5.1957, -1.3776, -2.3078, -3.2009, -3.462, -3.8917, -4.3558, -4.639, -4.7701, -4.8539, -4.9299, -5.1268, -5.2145, -5.2204, -5.3799, -5.5602, -5.6434, -5.6762, -5.6995, -5.7765, -5.8144, -5.8179, -5.8447, -5.8969, -5.9889, -5.983, -6.0297, -6.0253, -6.1534, -6.2016, -6.2224, -4.6818, -2.0092, -5.3252, -3.435, -3.2286, -3.3408, -5.3221, -5.3701, -5.1597, -4.8661, -4.8424, -5.5725, -5.5626], \"loglift\": [30.0, 29.0, 28.0, 27.0, 26.0, 25.0, 24.0, 23.0, 22.0, 21.0, 20.0, 19.0, 18.0, 17.0, 16.0, 15.0, 14.0, 13.0, 12.0, 11.0, 10.0, 9.0, 8.0, 7.0, 6.0, 5.0, 4.0, 3.0, 2.0, 1.0, 1.375, 1.3725, 1.3722, 1.3721, 1.3721, 1.3699, 1.3679, 1.3672, 1.3672, 1.3672, 1.3665, 1.3661, 1.3659, 1.3653, 1.3651, 1.3648, 1.3602, 1.3598, 1.3594, 1.3594, 1.3592, 1.3579, 1.3577, 1.3577, 1.3573, 1.3569, 1.3568, 1.3528, 1.3528, 1.3527, 1.2389, 0.918, 1.2097, 0.7684, 1.1373, 0.8569, 0.6673, 0.7106, 1.2563, 0.3895, -0.1486, 0.0981, 1.0518, -0.081, 1.0277, 0.5446, -1.4084, 0.5442, 0.1798, -0.4943, 1.4187, 1.4181, 1.418, 1.4178, 1.4172, 1.416, 1.4141, 1.4123, 1.4113, 1.4036, 1.3991, 1.3988, 1.3955, 1.3939, 1.3888, 1.3842, 1.3812, 1.3794, 1.3786, 1.3733, 1.3732, 1.3695, 1.3692, 1.3674, 1.3652, 1.3652, 1.3622, 1.3601, 1.3601, 1.3582, 1.2315, 1.2023, 1.1764, 1.198, 1.2893, 0.954, 0.8475, 1.2272, 0.7285, 1.2138, 1.172, 0.8875, 0.8496, 0.1202, 0.0952, -0.0837, 0.1227, 0.3315, 0.6566, 0.1422, 0.3953, 0.3373, 0.3576, -0.7695, 1.8535, 1.8533, 1.8533, 1.8497, 1.8493, 1.849, 1.8458, 1.8304, 1.8302, 1.8156, 1.8141, 1.8132, 1.8101, 1.8099, 1.8093, 1.8088, 1.8069, 1.8019, 1.7897, 1.7859, 1.7796, 1.7792, 1.7749, 1.7696, 1.7639, 1.7635, 1.7603, 1.756, 1.7548, 1.7523, 1.6928, 1.5276, 1.6979, 1.4918, 1.5381, 1.1492, 1.1304, 1.2209, 1.4289, 1.6629, 0.4096, 0.6754, 1.2906, 0.15, 0.4495, 1.1892, 0.288, 1.3941, 1.3542, -0.1822, 1.9838, 1.9836, 1.9834, 1.9812, 1.9781, 1.9749, 1.9748, 1.9748, 1.9745, 1.9687, 1.9683, 1.9646, 1.9627, 1.9614, 1.9584, 1.9544, 1.9542, 1.9451, 1.9443, 1.9435, 1.9434, 1.9425, 1.9397, 1.9393, 1.935, 1.9266, 1.9245, 1.9242, 1.92, 1.916, 1.7428, 1.6049, 1.7129, 1.7317, 1.6818, 1.8024, 1.1707, 0.4607, 1.5842, 0.9214, 0.7907, 0.2746, -0.3631, -0.5303, 1.0946, 0.0764, 0.9886, 2.0818, 2.081, 2.0783, 2.078, 2.0777, 2.0743, 2.0717, 2.0662, 2.0603, 2.0565, 2.0552, 2.0533, 2.0518, 2.0506, 2.0496, 2.0375, 2.0339, 2.0284, 2.0203, 2.0118, 2.0111, 2.0099, 2.0039, 2.0011, 1.9982, 1.9981, 1.9908, 1.9904, 1.9806, 1.9795, 1.9024, 1.8821, 1.7547, 1.6663, 1.6555, 1.6812, 1.296, 1.506, 1.1552, 0.4581, 0.5379, 1.1066, 0.3245, 0.4727, -0.0102, -0.1337, -0.5213, 0.0175, -0.4014, -0.0253, 2.4271, 2.426, 2.4231, 2.4217, 2.4184, 2.4128, 2.4079, 2.4051, 2.4031, 2.4011, 2.3954, 2.3924, 2.3922, 2.386, 2.3782, 2.3739, 2.372, 2.3709, 2.3662, 2.3642, 2.3638, 2.3621, 2.359, 2.3526, 2.3525, 2.3497, 2.3495, 2.34, 2.3351, 2.3338, 2.1755, 1.8561, 2.1078, 1.5057, 0.8842, 0.46, 1.8799, 1.798, 1.4511, 0.6654, 0.6162, 1.3553, 1.2849]}, \"token.table\": {\"Topic\": [5, 5, 2, 4, 5, 2, 3, 3, 6, 6, 4, 2, 4, 1, 2, 3, 4, 5, 6, 2, 5, 1, 1, 2, 6, 2, 3, 2, 1, 4, 1, 2, 4, 5, 1, 2, 4, 5, 3, 5, 1, 4, 2, 2, 3, 6, 1, 3, 4, 5, 6, 1, 2, 3, 4, 5, 5, 4, 1, 2, 3, 1, 1, 2, 1, 4, 3, 3, 2, 5, 1, 2, 6, 2, 5, 1, 1, 2, 5, 6, 3, 6, 4, 6, 5, 2, 5, 1, 5, 2, 6, 2, 1, 3, 1, 2, 1, 3, 1, 2, 5, 2, 1, 5, 3, 4, 1, 5, 4, 5, 6, 1, 3, 2, 5, 6, 1, 2, 3, 1, 1, 5, 1, 4, 1, 2, 1, 3, 5, 4, 4, 4, 6, 3, 5, 2, 6, 4, 1, 2, 3, 4, 5, 6, 5, 3, 5, 5, 6, 2, 4, 2, 1, 4, 4, 4, 1, 6, 1, 3, 4, 4, 1, 6, 1, 6, 6, 3, 1, 2, 3, 4, 6, 1, 1, 2, 4, 2, 3, 6, 1, 2, 3, 5, 1, 5, 6, 5, 2, 5, 2, 6, 2, 1, 2, 3, 6, 3, 5, 1, 6, 1, 2, 1, 2, 3, 5, 3, 5, 1, 3, 2, 6, 2, 5, 2, 5, 1, 2, 5, 6, 1, 2, 2, 1, 3, 4, 5, 6, 2, 4, 1, 4, 4, 4, 5, 6, 5, 6, 1, 6, 3, 6, 4, 1, 5, 5, 5, 2, 1, 4, 1, 3, 6, 4, 1, 4, 1, 6, 2, 3, 1, 6, 3, 3, 4, 3, 1, 6, 2, 1, 2, 2, 1, 1, 4, 6, 1, 2, 4, 2, 4, 1, 2, 3, 6, 3, 1, 4, 4, 3, 3, 5, 2, 1, 4, 3, 3, 5, 1, 4, 3, 1, 3, 2, 2, 2, 3, 1, 2, 6, 5, 1, 2, 4, 5, 1, 4, 1, 6, 3, 1, 4, 4, 3, 3, 6, 1, 5, 5, 5, 5, 6, 6, 1, 1, 1, 4, 5, 1, 2, 5, 2, 5, 2, 5, 4, 3, 6, 1, 2, 3, 1, 1, 3, 3, 1], \"Freq\": [0.8863449009901249, 0.9992135259539454, 0.9330606677327133, 0.9933177776896402, 0.9885170561584011, 0.9688849431120221, 0.9304016398759063, 0.9410644379967025, 0.9974190121453258, 0.9636468783344713, 0.99456788653123, 0.7733701146197441, 0.198300029389678, 0.2783624093884432, 0.26506181644838106, 0.18145808939656197, 0.025651143527262686, 0.10925487057908181, 0.1396562258706524, 0.8025939450643423, 0.19704856063902645, 0.9910835795608373, 0.40958320305119233, 0.5867002638300863, 0.9728662124094505, 0.3699972806570481, 0.6166621344284136, 0.9788213681554193, 0.9851526545209367, 0.94539783053849, 0.23244431320962097, 0.5629510710545508, 0.0808107182642823, 0.12348604139261114, 0.3027504213921912, 0.13455574284097388, 0.4410438237565255, 0.11960510474753233, 0.9907402061477831, 0.9945951071289019, 0.9818676848992158, 0.9384045950762336, 0.984084128539133, 0.16387472125687716, 0.8193736062843858, 0.8662464677125606, 0.006804828457480333, 0.2354470646288195, 0.6832047771310253, 0.07417263018653562, 0.0006804828457480333, 0.21694779757932645, 0.1106008379816174, 0.20844004081150974, 0.3445641490965773, 0.11910859474943414, 0.9976037005033127, 0.9184559723636079, 0.03516259717271927, 0.9493901236634205, 0.9974792665318869, 0.9758144776954978, 0.7054254111785482, 0.28412967950247076, 0.5862847851978721, 0.4092931519305899, 0.9552625034266661, 0.9850450012203137, 0.9948864526905143, 0.9793896130390841, 0.7881513378412399, 0.21017369009099732, 0.9251875829025823, 0.995201374192274, 0.8596804397153422, 0.9877951535430525, 0.4929326359928492, 0.11235964496895827, 0.39507100972956294, 0.9930231070472212, 0.997029407440834, 0.9523611856304419, 0.9344114452406689, 0.9662692992085856, 0.9921446636854627, 0.3299495201441296, 0.6663686387224578, 0.43640853090317466, 0.5588158017662602, 0.9945887944632948, 0.9793324603244338, 0.9700660830172656, 0.3494150919821695, 0.6405943353006441, 0.3723785252889608, 0.6265984800535398, 0.124008940621568, 0.8432607962266625, 0.5939063910474071, 0.33510919271390005, 0.0663582559829505, 0.9731524674846794, 0.8721999676914081, 0.12696581808166066, 0.6939804879983954, 0.303616463499298, 0.7223801744668206, 0.269688598467613, 0.16234297752143473, 0.8387720505274128, 0.8855001338854749, 0.3377129612613116, 0.6566640913414392, 0.22191939067696262, 0.2127994157176354, 0.564425116927252, 0.9799579374147114, 0.465053345201144, 0.5275231975415962, 0.99430339056317, 0.5448163514267255, 0.4548171901290953, 0.998922721149613, 0.9703713617398174, 0.1555354326099402, 0.8221158580811125, 0.992498721056308, 0.8824558218794476, 0.9753528865822187, 0.9588122546355334, 0.9398294291197162, 0.9893032529069177, 0.9815174184513316, 0.9376143187412953, 0.9126239431465063, 0.9944802073805411, 0.9996594235522839, 0.9978957215491281, 0.15307725630105318, 0.2719135473768708, 0.30816868702712025, 0.1812756982512472, 0.08258115142556817, 0.002014174425013858, 0.9607633710481397, 0.9691761609990346, 0.9530823515029264, 0.9376746054028317, 0.9209539406587857, 0.9231596266099172, 0.9755426908788196, 0.9250542141824082, 0.9758279799868352, 0.9706579303469915, 0.9914860360345459, 0.9931160364057601, 0.9881442234036858, 0.9331577900300786, 0.0618305539950082, 0.7206578129474684, 0.2176295770558763, 0.9965164991898277, 0.9928366758965694, 0.971228802553847, 0.20191718952649457, 0.7672853202006794, 0.9941555296784105, 0.9600412916225376, 0.07006902013701648, 0.5659420857220562, 0.12935819102218427, 0.16169773877773033, 0.07545894476294082, 0.9898725321411234, 0.6324281231991762, 0.2717513174415339, 0.09514405393261942, 0.26874821560497747, 0.7315923647024387, 0.9510068992695376, 0.3752096591786918, 0.1674012325566471, 0.08081438813079515, 0.3752096591786918, 0.005363042878479621, 0.8151825175289024, 0.17161737211134787, 0.974873681785588, 0.7998871599534751, 0.20037253505848576, 0.9616623670602858, 0.8994130960594601, 0.96930709499996, 0.4337746430875438, 0.3589859115207259, 0.039887323502302875, 0.16453520944699937, 0.9641751001697068, 0.9538703408132568, 0.39903068762717936, 0.5700438394673991, 0.18326520839001492, 0.8145120372889553, 0.3441436488873754, 0.07245129450260536, 0.5614975323951915, 0.8887294499821301, 0.9567542305861384, 0.9907214339440455, 0.48287233096365434, 0.5130518516488828, 0.970252224286174, 0.9828401436017581, 0.9547495192108693, 0.9690782018391739, 0.27898854413412755, 0.7204649216650546, 0.9957798745038068, 0.4333442283420971, 0.21667211417104856, 0.3466753826736777, 0.9730101041512219, 0.9209667185321463, 0.9976721404990405, 0.9871225774654907, 0.2034368285855893, 0.7767588000540683, 0.9657394882247891, 0.9453486660841289, 0.985071202391796, 0.974280568550769, 0.9798038086189166, 0.9532111259367532, 0.9824272415822801, 0.9677786999026677, 0.9976603608972139, 0.949227890657, 0.9361221756291352, 0.8833284502747698, 0.6598223201846735, 0.31991385221075075, 0.9334775092710085, 0.9082318580914468, 0.9826766308734506, 0.8918562222763449, 0.09555602381532267, 0.9334591646322501, 0.9647819260672994, 0.9161866281576565, 0.31335441542192644, 0.6615259881129558, 0.3314006402006314, 0.28405769160054123, 0.3787435888007217, 0.9872809803042434, 0.8436696032303276, 0.14635084953995478, 0.9930583479218716, 0.8907952065448821, 0.9952192778794406, 0.9305548889291795, 0.993994495749441, 0.9110609682435793, 0.8912121839652017, 0.8493381415857519, 0.14905603147034718, 0.9935828317203936, 0.2513792679620269, 0.7182264798915056, 0.9647728350828929, 0.9969336447292291, 0.9624400205947301, 0.9887165599257643, 0.9860139464818815, 0.0012979957612671256, 0.783989439805344, 0.21416930060907574, 0.09738786504972131, 0.8764907854474918, 0.9978029418577262, 0.927276222425446, 0.9080669994953426, 0.21387177554829864, 0.14258118369886577, 0.24654663014595538, 0.39803913782600026, 0.935949032292928, 0.9624952640012251, 0.9969453585950262, 0.9729386783908198, 0.9430733907672564, 0.9737183683084463, 0.9671593809432419, 0.9782987209352327, 0.2331532883405101, 0.7620131862836184, 0.9175163038893478, 0.8826083915337212, 0.9858145297730685, 0.1602327679148374, 0.8332103931571545, 0.9915798032548873, 0.9853226101703288, 0.9794320364924792, 0.9931457655695485, 0.9668446628629691, 0.9888517513318512, 0.8562803986434666, 0.217412061864815, 0.7818763245718404, 0.9517927274071126, 0.9530926798502659, 0.3094270893239875, 0.07735677233099687, 0.3674446685722352, 0.24173991353436525, 0.9902840480936556, 0.954349379407011, 0.990929597214986, 0.9301101662324599, 0.9148974513685844, 0.03781867418824834, 0.9580730794356246, 0.9851333351220327, 0.9667588197275845, 0.9521531314233708, 0.9915192471582714, 0.9914479052369061, 0.9634320471395751, 0.9189910229069095, 0.9242354471363213, 0.4408239955215038, 0.5234784946817858, 0.9762350241629113, 0.9931298789336678, 0.9832465735840429, 0.254297456556691, 0.736124216348316, 0.9746582645647873, 0.0007653036867402702, 0.8265279816794918, 0.1721933295165608, 0.3380301365582641, 0.6575380738530617, 0.34656837735322465, 0.6498157075372962, 0.9464445746374629, 0.9709015437027141, 0.934214690374641, 0.006058921238444362, 0.4998610021716598, 0.4938020809332154, 0.9949543167073616, 0.5144289195466702, 0.48555790875578564, 0.997296481317687, 0.9781843994704554], \"Term\": [\"\\u3145\", \"\\uac00\\uaca9\", \"\\uac00\\ub824\\uc6c0\\uc99d\", \"\\uac00\\uc131\", \"\\uac00\\uc871\", \"\\uac01\\uc9c8\", \"\\uac04\", \"\\uac08\\uc0c9\", \"\\uac10\\uc0ac\", \"\\uac15\\ucd94\", \"\\uac1c\", \"\\uac1c\\uc120\", \"\\uac1c\\uc120\", \"\\uac70\", \"\\uac70\", \"\\uac70\", \"\\uac70\", \"\\uac70\", \"\\uac70\", \"\\uac70\\ud488\", \"\\uac70\\ud488\", \"\\uac71\\uc815\", \"\\uac74\", \"\\uac74\", \"\\uac74\\uac15\", \"\\uac74\\ub370\", \"\\uac74\\ub370\", \"\\uac74\\uc9c0\", \"\\uac78\", \"\\uac81\\ub2c8\\ub2e4\", \"\\uac83\", \"\\uac83\", \"\\uac83\", \"\\uac83\", \"\\uac8c\", \"\\uac8c\", \"\\uac8c\", \"\\uac8c\", \"\\uac8c\\uc694\", \"\\uacb0\", \"\\uacb0\\uacfc\", \"\\uacf3\", \"\\uad00\\ub9ac\", \"\\uad11\\uace0\", \"\\uad11\\uace0\", \"\\uad50\\uccb4\", \"\\uad6c\\ub9e4\", \"\\uad6c\\ub9e4\", \"\\uad6c\\ub9e4\", \"\\uad6c\\ub9e4\", \"\\uad6c\\ub9e4\", \"\\uad6c\\uc785\", \"\\uad6c\\uc785\", \"\\uad6c\\uc785\", \"\\uad6c\\uc785\", \"\\uad6c\\uc785\", \"\\uad7f\", \"\\uae00\", \"\\uae30\\ub2a5\", \"\\uae30\\ub2a5\", \"\\uae30\\ub300\", \"\\uae30\\ub984\", \"\\uae30\\ubd84\", \"\\uae30\\ubd84\", \"\\uae30\\uc874\", \"\\uae30\\uc874\", \"\\uae30\\ud55c\", \"\\uaed8\", \"\\ub098\", \"\\ub098\\ub984\", \"\\ub0a8\\ud3b8\", \"\\ub0a8\\ud3b8\", \"\\ub0b4\\uc694\", \"\\ub0c4\\uc0c8\", \"\\ub109\", \"\\ub208\", \"\\ub290\\ub08c\", \"\\ub290\\ub08c\", \"\\ub290\\ub08c\", \"\\ub2e4\\uc74c\", \"\\ub2ec\", \"\\ub2f4\", \"\\ub2f9\", \"\\ub300\\ubc15\", \"\\ub300\\ube44\", \"\\ub300\\uc6a9\\ub7c9\", \"\\ub300\\uc6a9\\ub7c9\", \"\\ub370\", \"\\ub370\", \"\\ub3c4\\uc6c0\", \"\\ub3c4\\ucc29\", \"\\ub3d9\\uc0dd\", \"\\ub3d9\\uc548\", \"\\ub3d9\\uc548\", \"\\ub450\\ud53c\", \"\\ub450\\ud53c\", \"\\ub4a4\", \"\\ub4a4\", \"\\ub4ef\", \"\\ub4ef\", \"\\ub4ef\", \"\\ub538\\uc544\\uc774\", \"\\ub54c\", \"\\ub54c\", \"\\ub9ac\\ubdf0\", \"\\ub9ac\\ubdf0\", \"\\ub9b0\\uc2a4\", \"\\ub9b0\\uc2a4\", \"\\ub9c8\\uc74c\", \"\\ub9c8\\uc74c\", \"\\ub9c8\\ud2b8\", \"\\ub9cc\", \"\\ub9cc\", \"\\ub9cc\\uc871\", \"\\ub9cc\\uc871\", \"\\ub9cc\\uc871\", \"\\ub9d0\", \"\\ub9d8\", \"\\ub9d8\", \"\\ub9e5\\uc8fc\", \"\\uba38\\ub9ac\", \"\\uba38\\ub9ac\", \"\\uba38\\ub9ac\\uce74\\ub77d\", \"\\uba38\\ub9ac\\ud138\", \"\\uba70\\uce60\", \"\\uba70\\uce60\", \"\\ubaa8\\ubc1c\", \"\\ubb34\\ub9ac\", \"\\ubb3c\\uac74\", \"\\ubbf8\", \"\\ubbf8\\uc6a9\\uc2e4\", \"\\ubc14\\ub514\", \"\\ubc15\\uc2a4\", \"\\ubc15\\ud558\", \"\\ubc24\\ubd80\", \"\\ubc29\\uc9c0\", \"\\ubc30\\uc1a1\", \"\\ubc31\\uc11c\", \"\\ubc88\", \"\\ubc88\", \"\\ubc88\", \"\\ubc88\", \"\\ubc88\", \"\\ubc88\", \"\\ubc88\\ucc3d\", \"\\ubcc0\\ud654\", \"\\ubcd1\", \"\\ubcf4\\uc2b5\", \"\\ubd80\", \"\\ubd80\\ub2f4\", \"\\ubd80\\ubaa8\", \"\\ubd80\\uc871\", \"\\ubd84\", \"\\ubd88\\ub7c9\", \"\\ube0c\\ub79c\\ub4dc\", \"\\ube44\", \"\\ube44\\uc624\\ud2f4\", \"\\ube60\\ub984\", \"\\uc0ac\\uc6a9\", \"\\uc0ac\\uc6a9\", \"\\uc0ac\\uc6a9\", \"\\uc0b4\\ub9bc\", \"\\uc0bc\", \"\\uc0c1\", \"\\uc0c1\\ud0dc\", \"\\uc0c1\\ud0dc\", \"\\uc0c1\\ud488\", \"\\uc0c9\", \"\\uc0dd\\uac01\", \"\\uc0dd\\uac01\", \"\\uc0dd\\uac01\", \"\\uc0dd\\uac01\", \"\\uc0dd\\uac01\", \"\\uc0f4\", \"\\uc0f4\\ud478\", \"\\uc0f4\\ud478\", \"\\uc0f4\\ud478\", \"\\uc120\\ubb3c\", \"\\uc120\\ubb3c\", \"\\uc131\\ub2a5\", \"\\uc131\\ubd84\", \"\\uc131\\ubd84\", \"\\uc131\\ubd84\", \"\\uc131\\ubd84\", \"\\uc131\\ube44\", \"\\uc131\\ube44\", \"\\uc131\\ube44\", \"\\uc138\\uc77c\", \"\\uc138\\uc815\\ub825\", \"\\uc138\\uc815\\ub825\", \"\\uc18c\\ub7c9\", \"\\uc18d\", \"\\uc194\", \"\\uc218\", \"\\uc218\", \"\\uc218\", \"\\uc218\", \"\\uc218\\uace0\", \"\\uc2b5\", \"\\uc2dc\", \"\\uc2dc\", \"\\uc2dc\\uc791\", \"\\uc2dc\\uc791\", \"\\uc544\\ub4e4\", \"\\uc544\\ub4e4\", \"\\uc544\\ub4e4\", \"\\uc544\\ubc84\\uc9c0\", \"\\uc544\\ube60\", \"\\uc544\\uc774\", \"\\uc55e\", \"\\uc55e\", \"\\uc560\", \"\\uc560\\uc6a9\", \"\\uc57d\", \"\\uc57d\\uac04\", \"\\uc591\", \"\\uc591\", \"\\uc5bc\\ub9c8\", \"\\uc5ec\", \"\\uc5ec\", \"\\uc5ec\", \"\\uc5ec\\uae30\", \"\\uc5ec\\ub984\", \"\\uc608\\ubc29\", \"\\uc608\\uc804\", \"\\uc608\\uc815\", \"\\uc608\\uc815\", \"\\uc624\", \"\\uc644\\uc804\", \"\\uc644\\ud654\", \"\\uc694\\uc870\", \"\\uc694\\uc998\", \"\\uc695\\uc2e4\", \"\\uc6a9\", \"\\uc6a9\\uae30\", \"\\uc6a9\\ub7c9\", \"\\uc6b0\\ub9ac\", \"\\uc6b0\\uc218\", \"\\uc6cc\", \"\\uc6d0\", \"\\uc6d0\", \"\\uc720\\ud1b5\", \"\\uc724\\uae30\", \"\\uc758\\uc0ac\", \"\\uc774\\uac70\", \"\\uc774\\uac70\", \"\\uc774\\uac78\", \"\\uc774\\uac83\", \"\\uc774\\uac8c\", \"\\uc774\\ubc88\", \"\\uc774\\ubc88\", \"\\uc774\\uc0c1\", \"\\uc774\\uc0c1\", \"\\uc774\\uc0c1\", \"\\uc774\\uc6a9\", \"\\uc77c\", \"\\uc77c\", \"\\uc77c\\ubc18\", \"\\uc784\\uc0b0\\ubd80\", \"\\uc790\\uadf9\", \"\\uc791\\uc131\", \"\\uc800\", \"\\uc800\\ubc88\", \"\\uc801\\uadf9\", \"\\uc804\", \"\\uc804\", \"\\uc804\\uc774\", \"\\uc804\\uccb4\", \"\\uc804\\uccb4\", \"\\uc810\", \"\\uc815\\ub3c4\", \"\\uc815\\uc218\\ub9ac\", \"\\uc815\\ucc29\", \"\\uc81c\", \"\\uc81c\\ud488\", \"\\uc81c\\ud488\", \"\\uc81c\\ud488\", \"\\uc870\\uae08\", \"\\uc870\\uae08\", \"\\uc870\\uc544\", \"\\uc885\\ub958\", \"\\uc88b\", \"\\uc8fc\\ubb38\", \"\\uc8fc\\ubb38\", \"\\uc8fc\\ubb38\", \"\\uc8fc\\ubb38\", \"\\uc8fc\\ubcc0\", \"\\uc8fc\\uc77c\", \"\\uc911\", \"\\uc9c0\", \"\\uc9c0\\uc18d\", \"\\uc9c0\\uc778\", \"\\uc9f1\", \"\\ucc28\\uc6d0\", \"\\ucc98\\uc74c\", \"\\ucc98\\uc74c\", \"\\ucd08\\ubc18\", \"\\ucd09\\uac10\", \"\\ucd5c\\uace0\", \"\\ucd94\\uac00\", \"\\ucd94\\uac00\", \"\\ucd94\\ucc9c\", \"\\ucd9c\\uc0b0\", \"\\uce5c\\uad6c\", \"\\ucf00\\uc5b4\", \"\\ucfe8\", \"\\ucfe8\\ub9c1\", \"\\ud06c\\uae30\", \"\\ud0c8\\ubaa8\", \"\\ud0c8\\ubaa8\", \"\\ud0dd\\ubc30\", \"\\ud15c\", \"\\ud1b5\", \"\\ud1b5\", \"\\ud1b5\", \"\\ud1b5\", \"\\ud2b8\", \"\\ud2b8\\ub7ec\\ube14\", \"\\ud2b8\\ub9ac\\ud2b8\", \"\\ud310\\ub9e4\", \"\\ud328\\ud0a4\\uc9c0\", \"\\ud38c\\ud504\", \"\\ud38c\\ud504\", \"\\ud3c9\", \"\\ud3c9\\uac00\", \"\\ud3c9\\ubcf4\", \"\\ud3ec\\uc7a5\", \"\\ud478\", \"\\ud478\\uc2dc\", \"\\ud47c\", \"\\ud488\", \"\\ud488\\uc9c8\", \"\\ud488\\uc9c8\", \"\\ud488\\ud3c9\", \"\\ud4e8\", \"\\ud544\\uc694\", \"\\ud558\\ub098\", \"\\ud558\\ub098\", \"\\ud560\\uc778\", \"\\ud5a5\", \"\\ud5a5\", \"\\ud5a5\", \"\\ud5a5\\uae30\", \"\\ud5a5\\uae30\", \"\\ud5a5\\ub3c4\", \"\\ud5a5\\ub3c4\", \"\\ud604\\uc7ac\", \"\\ud655\\uc778\", \"\\ud68c\\uc0ac\", \"\\ud6a8\\uacfc\", \"\\ud6a8\\uacfc\", \"\\ud6a8\\uacfc\", \"\\ud6a8\\ubaa8\", \"\\ud6c4\", \"\\ud6c4\", \"\\ud6c4\\uae30\", \"\\ud798\"]}, \"R\": 30, \"lambda.step\": 0.01, \"plot.opts\": {\"xlab\": \"PC1\", \"ylab\": \"PC2\"}, \"topic.order\": [3, 5, 1, 2, 4, 6]};\n",
              "\n",
              "function LDAvis_load_lib(url, callback){\n",
              "  var s = document.createElement('script');\n",
              "  s.src = url;\n",
              "  s.async = true;\n",
              "  s.onreadystatechange = s.onload = callback;\n",
              "  s.onerror = function(){console.warn(\"failed to load library \" + url);};\n",
              "  document.getElementsByTagName(\"head\")[0].appendChild(s);\n",
              "}\n",
              "\n",
              "if(typeof(LDAvis) !== \"undefined\"){\n",
              "   // already loaded: just create the visualization\n",
              "   !function(LDAvis){\n",
              "       new LDAvis(\"#\" + \"ldavis_el44731392563635239207634454405\", ldavis_el44731392563635239207634454405_data);\n",
              "   }(LDAvis);\n",
              "}else if(typeof define === \"function\" && define.amd){\n",
              "   // require.js is available: use it to load d3/LDAvis\n",
              "   require.config({paths: {d3: \"https://d3js.org/d3.v5\"}});\n",
              "   require([\"d3\"], function(d3){\n",
              "      window.d3 = d3;\n",
              "      LDAvis_load_lib(\"https://cdn.jsdelivr.net/gh/bmabey/pyLDAvis@3.4.0/pyLDAvis/js/ldavis.v3.0.0.js\", function(){\n",
              "        new LDAvis(\"#\" + \"ldavis_el44731392563635239207634454405\", ldavis_el44731392563635239207634454405_data);\n",
              "      });\n",
              "    });\n",
              "}else{\n",
              "    // require.js not available: dynamically load d3 & LDAvis\n",
              "    LDAvis_load_lib(\"https://d3js.org/d3.v5.js\", function(){\n",
              "         LDAvis_load_lib(\"https://cdn.jsdelivr.net/gh/bmabey/pyLDAvis@3.4.0/pyLDAvis/js/ldavis.v3.0.0.js\", function(){\n",
              "                 new LDAvis(\"#\" + \"ldavis_el44731392563635239207634454405\", ldavis_el44731392563635239207634454405_data);\n",
              "            })\n",
              "         });\n",
              "}\n",
              "</script>"
            ]
          },
          "metadata": {},
          "execution_count": 61
        }
      ]
    }
  ]
}